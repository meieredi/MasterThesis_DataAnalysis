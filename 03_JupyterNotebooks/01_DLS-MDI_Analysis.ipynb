{
 "cells": [
  {
   "cell_type": "markdown",
   "id": "d26cf4b2",
   "metadata": {
    "slideshow": {
     "slide_type": "slide"
    }
   },
   "source": [
    "<table style=\"width:100%;\"/>\n",
    "    <tr>\n",
    "        <td style=\"width:80%; text-align:left; vertical-align: center;\"/>\n",
    "            <img src=\"Figures/Logo_Combined.png\" width=\"350\" alt=\"logo\" align=\"left\"/>\n",
    "        </td/>\n",
    "        <td style=\"width:20%; text-align:left; vertical-align: top;\"/>\n",
    "            Biochemical Engineering Lab<br/>\n",
    "            & Janssen Cilag AG<br/>\n",
    "        </td/>\n",
    "    </tr/>\n",
    "</table/>"
   ]
  },
  {
   "cell_type": "markdown",
   "id": "e0b15dfa",
   "metadata": {
    "slideshow": {
     "slide_type": "subslide"
    }
   },
   "source": [
    "<center> \n",
    "    <h1>Master Thesis on Protein Aggregation: DLS + MDI Analysis </h1>\n",
    "    <h3>by Eduard Meier</h3><br/>\n",
    "</center>"
   ]
  },
  {
   "cell_type": "markdown",
   "id": "6707691f",
   "metadata": {},
   "source": [
    "Before trying to run this jupyter notebook, please make sure that your computer is running python 3 and that the libaries imported below are all installed, e.g. typing the following code in your terminal: ```pip install numpy``` (repeat for all other libraries)\n",
    "\n",
    "To be able to see the interactive widgets in this notebook, you need to enable the widgets package by executing the following code in your terminal: ```jupyter nbextension enable --py widgetsnbextension```\n",
    "\n",
    "The widgets don't work reliably when using the Jupyter Notebook with Visual Studio Code, preferably open the Jupyter Notebook in your default browser."
   ]
  },
  {
   "cell_type": "markdown",
   "id": "140d57a7",
   "metadata": {},
   "source": [
    "## Import relevant libraries/modules"
   ]
  },
  {
   "cell_type": "code",
   "execution_count": 1,
   "id": "7b7b7a88",
   "metadata": {
    "scrolled": false
   },
   "outputs": [],
   "source": [
    "# Import python libraries used in the following\n",
    "\n",
    "# Public\n",
    "import numpy as np                            # Import numerical python library\n",
    "import matplotlib as mpl                      # Import python mathematical plotting library\n",
    "import matplotlib.pyplot as plt               # Import python mathematical plotting library\n",
    "import pandas as pd                           # Import python data analysis library\n",
    "import pathlib                                # Import library to edit paths\n",
    "import math                                   # Import math library\n",
    "import glob                                   # Import library to scan paths\n",
    "import os                                     # Import library to interact with os\n",
    "import io                                     # Import library to interact with io\n",
    "import sys                                    # Import system library\n",
    "import time                                   # Import library for time tracking\n",
    "import ipywidgets as widgets                  # Import libary for jupyter notebook widgets\n",
    "from IPython.display import Javascript, HTML, Image, display, Markdown, clear_output\n",
    "from pptx import Presentation                 # Import libary for microsoft powerpoint\n",
    "from pptx.util import Inches                  # Import inches function to set sizes/margins\n",
    "from itertools import zip_longest             # Import iteration tool\n",
    "\n",
    "\n",
    "# Own modules (meiered)\n",
    "sys.path.append(r'../04_AdditionalCode')                # Add \"Modules\" subdirectory to system paths\n",
    "import jupyterWidgets as jw                   # Import jupyterWidgets module (based on ipywidgets)\n",
    "import jupyterData as jd                      # Import jupyterData module\n",
    "import jupyterPlot as jp                      # Import jupyterPlot module\n",
    "\n",
    "# Set path to parent directory\n",
    "os.chdir('..')"
   ]
  },
  {
   "cell_type": "markdown",
   "id": "677d1cad",
   "metadata": {},
   "source": [
    "## Hide Code"
   ]
  },
  {
   "cell_type": "markdown",
   "id": "98c74740",
   "metadata": {},
   "source": [
    "Source: https://stackoverflow.com/questions/27934885/how-to-hide-code-from-cells-in-ipython-notebook-visualized-with-nbviewer"
   ]
  },
  {
   "cell_type": "code",
   "execution_count": 2,
   "id": "37ee0028",
   "metadata": {},
   "outputs": [
    {
     "data": {
      "text/html": [
       "<script>\n",
       "    function luc21893_refresh_cell(cell) {\n",
       "        if( cell.luc21893 ) return;\n",
       "        cell.luc21893 = true;\n",
       "        console.debug('New code cell found...' );\n",
       "\n",
       "        var div = document.createElement('DIV');            \n",
       "        cell.parentNode.insertBefore( div, cell.nextSibling );\n",
       "        div.style.textAlign = 'right';\n",
       "        var a = document.createElement('A');\n",
       "        div.appendChild(a);\n",
       "        a.href='#'\n",
       "        a.luc21893 = cell;\n",
       "        a.setAttribute( 'onclick', \"luc21893_toggle(this); return false;\" );\n",
       "\n",
       "        cell.style.visibility='hidden';\n",
       "        cell.style.position='absolute';\n",
       "        a.innerHTML = '[show code]';        \n",
       "\n",
       "    }\n",
       "    function luc21893_refresh() {                \n",
       "        if( document.querySelector('.code_cell .input') == null ) {            \n",
       "            // it apeears that I am in a exported html\n",
       "            // hide this code\n",
       "            var codeCells = document.querySelectorAll('.jp-InputArea')\n",
       "            codeCells[0].style.visibility = 'hidden';\n",
       "            codeCells[0].style.position = 'absolute';                        \n",
       "            for( var i = 1; i < codeCells.length; i++ ) {\n",
       "                luc21893_refresh_cell(codeCells[i].parentNode)\n",
       "            }\n",
       "            window.onload = luc21893_refresh;\n",
       "        }                 \n",
       "        else {\n",
       "            // it apperas that I am in a jupyter editor\n",
       "            var codeCells = document.querySelectorAll('.code_cell .input')\n",
       "            for( var i = 0; i < codeCells.length; i++ ) {\n",
       "                luc21893_refresh_cell(codeCells[i])\n",
       "            }            \n",
       "            window.setTimeout( luc21893_refresh, 1000 )\n",
       "        }        \n",
       "    }\n",
       "\n",
       "    function luc21893_toggle(a) {\n",
       "        if( a.luc21893.style.visibility=='hidden' ) {\n",
       "            a.luc21893.style.visibility='visible';        \n",
       "            a.luc21893.style.position='';\n",
       "            a.innerHTML = '[hide code]';\n",
       "        }\n",
       "        else {\n",
       "            a.luc21893.style.visibility='hidden';        \n",
       "            a.luc21893.style.position='absolute';\n",
       "            a.innerHTML = '[show code]';\n",
       "        }\n",
       "    }\n",
       "\n",
       "    luc21893_refresh()\n",
       "</script>"
      ],
      "text/plain": [
       "<IPython.core.display.HTML object>"
      ]
     },
     "metadata": {},
     "output_type": "display_data"
    }
   ],
   "source": [
    "# Set parameter to hide code (after changing to 0, page needs to be refreshed in order to work)\n",
    "hideCode = 1\n",
    "\n",
    "if hideCode:\n",
    "    file = os.path.join('04_AdditionalCode', 'hideCode.html')\n",
    "    display(HTML(filename=file))"
   ]
  },
  {
   "cell_type": "markdown",
   "id": "477430e6",
   "metadata": {},
   "source": [
    "## Adjust Settings"
   ]
  },
  {
   "cell_type": "code",
   "execution_count": 3,
   "id": "1799dfe1",
   "metadata": {
    "scrolled": false
   },
   "outputs": [
    {
     "name": "stdout",
     "output_type": "stream",
     "text": [
      "Please decide what results shall be plotted:\n"
     ]
    },
    {
     "data": {
      "application/vnd.jupyter.widget-view+json": {
       "model_id": "f2640feb8f6d4d6b892e10cd66b5bd5d",
       "version_major": 2,
       "version_minor": 0
      },
      "text/plain": [
       "VBox(children=(Checkbox(value=True, description='Plot DLS'), Checkbox(value=True, description='Plot MDI'), Che…"
      ]
     },
     "metadata": {},
     "output_type": "display_data"
    },
    {
     "name": "stdout",
     "output_type": "stream",
     "text": [
      "Please select the settings for plots:\n",
      "(Recommended font size is 12 for documents and 18 for presentations)\n",
      "\n"
     ]
    },
    {
     "data": {
      "application/vnd.jupyter.widget-view+json": {
       "model_id": "acc00bb5274f4b9aaa36f2f613a06750",
       "version_major": 2,
       "version_minor": 0
      },
      "text/plain": [
       "VBox(children=(Checkbox(value=True, description='Show title on plots'), Dropdown(description='Colormap:', opti…"
      ]
     },
     "metadata": {},
     "output_type": "display_data"
    },
    {
     "name": "stdout",
     "output_type": "stream",
     "text": [
      "Finally, press \"Run all cells below\" button below!\n"
     ]
    },
    {
     "data": {
      "application/vnd.jupyter.widget-view+json": {
       "model_id": "bb3bfb4be3a249a79da37f2f0cbec5ec",
       "version_major": 2,
       "version_minor": 0
      },
      "text/plain": [
       "Button(description='Run all cells below', style=ButtonStyle())"
      ]
     },
     "metadata": {},
     "output_type": "display_data"
    },
    {
     "data": {
      "application/javascript": [
       "IPython.notebook.execute_cell_range(IPython.notebook.get_selected_index()+2, IPython.notebook.ncells())"
      ],
      "text/plain": [
       "<IPython.core.display.Javascript object>"
      ]
     },
     "metadata": {},
     "output_type": "display_data"
    }
   ],
   "source": [
    "# Create and display checkboxes\n",
    "[boxPlot, widget_plotDLS, widget_plotMDI, widget_onlyOverview] = jw.plotWidget()\n",
    "\n",
    "# Display checkbox\n",
    "display(boxPlot)\n",
    "\n",
    "# Create and display widgets to set default values\n",
    "output = jw.defaultWidgets()\n",
    "\n",
    "# Extract variables from output list\n",
    "[box, widget_showTitle, widget_cmap, widget_invert, widget_font, widget_fontSize] = output\n",
    "\n",
    "# Display widget box\n",
    "display(box)\n",
    "\n",
    "# Create and display button to \"Run all cells below\"\n",
    "button = jw.runAllWidget()\n",
    "\n",
    "# Display button\n",
    "display(button)"
   ]
  },
  {
   "cell_type": "code",
   "execution_count": 4,
   "id": "04514894",
   "metadata": {},
   "outputs": [
    {
     "name": "stdout",
     "output_type": "stream",
     "text": [
      "Press Enter\n",
      "Thanks!\n",
      "\n",
      "Now select plot settings above and then press the \"Run all cells below\" button!\n",
      "\n"
     ]
    }
   ],
   "source": [
    "input('Press Enter')\n",
    "print('Thanks!\\n')\n",
    "\n",
    "class StopExecution(Exception):\n",
    "    def _render_traceback_(self):\n",
    "        pass\n",
    "    \n",
    "print('Now select plot settings above and then press the \"Run all cells below\" button!\\n')\n",
    "\n",
    "\n",
    "raise StopExecution"
   ]
  },
  {
   "cell_type": "markdown",
   "id": "7f1ddebf",
   "metadata": {},
   "source": [
    "#### The following settings from above have been registered ↓"
   ]
  },
  {
   "cell_type": "code",
   "execution_count": 5,
   "id": "8bdce475",
   "metadata": {},
   "outputs": [
    {
     "name": "stdout",
     "output_type": "stream",
     "text": [
      "Plot:       overview\n",
      "Title:      False\n",
      "Colormap:   coolwarm_r\n",
      "Font:       Arial\n",
      "Fontsize:   15\n"
     ]
    }
   ],
   "source": [
    "# Save selected values\n",
    "plotDLS = widget_plotDLS.value\n",
    "plotMDI = widget_plotMDI.value\n",
    "onlyOverview = widget_onlyOverview.value\n",
    "showTitle = widget_showTitle.value\n",
    "cmap = widget_cmap.value\n",
    "invert = widget_invert.value\n",
    "font = widget_font.value\n",
    "fontSize = int(widget_fontSize.value)\n",
    "\n",
    "# Save the default values selected above\n",
    "cmap = jw.setDefault(onlyOverview, showTitle, cmap, invert, font, fontSize)"
   ]
  },
  {
   "cell_type": "markdown",
   "id": "180b0000",
   "metadata": {},
   "source": [
    "# 1. Dynamic Light Scattering (DLS)"
   ]
  },
  {
   "cell_type": "markdown",
   "id": "eb8b091f",
   "metadata": {},
   "source": [
    "## 1.1 Folder and File Detection\n",
    "\n",
    "Detect folders and contained data, import data and merge same experiment. Merged (+ averaged) data is additionally exported in the CSV format."
   ]
  },
  {
   "cell_type": "markdown",
   "id": "e6666933",
   "metadata": {},
   "source": [
    "### 1.1.1 Set Path to DLS Data Folders\n",
    "This part might have to be adapted depending on the location of the data (relative to location of jupyter notebook file)."
   ]
  },
  {
   "cell_type": "code",
   "execution_count": 6,
   "id": "d8581921",
   "metadata": {},
   "outputs": [],
   "source": [
    "# Set path of DLS data folders\n",
    "pathsDLS = glob.glob(os.path.join('01_Data', '01_DLS', '01_Raw', '*'))"
   ]
  },
  {
   "cell_type": "markdown",
   "id": "16172582",
   "metadata": {},
   "source": [
    "### 1.1.2 Scan Folders"
   ]
  },
  {
   "cell_type": "code",
   "execution_count": 7,
   "id": "830f57d0",
   "metadata": {},
   "outputs": [
    {
     "name": "stdout",
     "output_type": "stream",
     "text": [
      "The following folders have been detected: \n",
      " \n",
      " ['01_Reference', '02_Time_Series', '03_Surfactant', '04_Protein', '05_Concentration', '06_Air', '07_EVs', 'xx_unused'] \n",
      "\n",
      "The CSV-files of each folder are stored in the dictionary \"csvFiles\"! \n",
      "\n",
      "Note: The corresponding foldername serves as a key, i.e. csvFiles[folder] = \"CSV files inside folder\". \n",
      "\n"
     ]
    }
   ],
   "source": [
    "# Scan the given folders\n",
    "output = jd.scanFolders(pathsDLS)\n",
    "\n",
    "# Extract variables from output list\n",
    "[foldersDLS, csvFilesDLS] = output"
   ]
  },
  {
   "cell_type": "markdown",
   "id": "12049c9f",
   "metadata": {},
   "source": [
    "### 1.1.3 Extract Data"
   ]
  },
  {
   "cell_type": "code",
   "execution_count": 8,
   "id": "07530c2e",
   "metadata": {},
   "outputs": [
    {
     "name": "stdout",
     "output_type": "stream",
     "text": [
      "The correlation and intensity data from the CSV-files are stored in the dictionaries \"corrData\" and \"intData\" \n",
      "\n",
      "with respective filenames as keys, i.e. corrData[filename] = \"correlation data inside given file\"! \n",
      "\n"
     ]
    }
   ],
   "source": [
    "# Extract data from the csv-files\n",
    "output = jd.extractDataDLS(foldersDLS, csvFilesDLS)\n",
    "\n",
    "# Extract variables from output list\n",
    "[allFilesDLS, corrData, intData] = output"
   ]
  },
  {
   "cell_type": "markdown",
   "id": "d41176d0",
   "metadata": {},
   "source": [
    "### 1.1.4 Merge Experimental Data"
   ]
  },
  {
   "cell_type": "code",
   "execution_count": 9,
   "id": "f79f1317",
   "metadata": {},
   "outputs": [
    {
     "name": "stdout",
     "output_type": "stream",
     "text": [
      "The following collections of same experimental conditions are generated (with different suffixes): \n",
      "\n",
      "BVs_3e10_000rpm_00-00min_NA\n",
      "BVs_3e10_300rpm_20-00min_ST\n",
      "BVs_3e10_300rpm_40-00min_ST\n",
      "EVs_3e10_000rpm_00-00min_NA\n",
      "EVs_3e10_300rpm_00-30min_ST\n",
      "EVs_3e10_300rpm_02-00min_ST\n",
      "EVs_3e10_300rpm_20-00min_PM\n",
      "EVs_3e10_300rpm_20-00min_ST\n",
      "EVs_3e10_300rpm_40-00min_PM\n",
      "EVs_3e10_300rpm_40-00min_ST\n",
      "EVs_3e10_BSA_010mg_000rpm_00-00min_NA\n",
      "EVs_3e10_BSA_010mg_300rpm_20-00min_ST\n",
      "EVs_3e10_BSA_010mg_300rpm_40-00min_ST\n",
      "EVs_3e10_PS2_500ug_000rpm_00-00min_NA\n",
      "EVs_3e10_PS2_500ug_300rpm_20-00min_ST\n",
      "EVs_3e10_PS2_500ug_300rpm_40-00min_ST\n",
      "EVs_3e9_BSA_001mg_000rpm_00-00min_NA\n",
      "H2O_00mg_000rpm_00-00min_NA\n",
      "H2O_00mg_000rpm_10-00min_PM\n",
      "H2O_00mg_000rpm_10-00min_ST\n",
      "H2O_00mg_200rpm_10-00min_PM\n",
      "H2O_00mg_200rpm_10-00min_ST\n",
      "H2O_00mg_300rpm_20-00min_PM\n",
      "H2O_00mg_LAT_100mu_000rpm_00-00min_NA\n",
      "H2O_00mg_LAT_100mu_300rpm_20-00min_ST\n",
      "H2O_00mg_PO1_500ug_000rpm_00-00min_NA\n",
      "H2O_00mg_PS2_500ug_000rpm_00-00min_NA\n",
      "H2O_00mg_PS8_500ug_000rpm_00-00min_NA\n",
      "JJ1_01mg_000rpm_00-00min_NA\n",
      "JJ1_01mg_000rpm_10-00min_PM\n",
      "JJ1_01mg_000rpm_10-00min_ST\n",
      "JJ1_01mg_200rpm_10-00min_PM\n",
      "JJ1_01mg_200rpm_10-00min_ST\n",
      "JJ1_01mg_AIR_010%v_200rpm_10-00min_PM\n",
      "JJ1_01mg_BRJ_500ug_000rpm_00-00min_NA\n",
      "JJ1_01mg_PO1_010ug_000rpm_00-00min_NA\n",
      "JJ1_01mg_PO1_010ug_200rpm_10-00min_PM\n",
      "JJ1_01mg_PO1_010ug_200rpm_10-00min_ST\n",
      "JJ1_01mg_PO1_050ug_000rpm_00-00min_NA\n",
      "JJ1_01mg_PO1_050ug_200rpm_10-00min_PM\n",
      "JJ1_01mg_PO1_050ug_200rpm_10-00min_ST\n",
      "JJ1_01mg_PO1_100ug_000rpm_00-00min_NA\n",
      "JJ1_01mg_PO1_100ug_200rpm_10-00min_PM\n",
      "JJ1_01mg_PO1_100ug_200rpm_10-00min_ST\n",
      "JJ1_01mg_PO1_250ug_200rpm_10-00min_PM\n",
      "JJ1_01mg_PO1_250ug_200rpm_10-00min_ST\n",
      "JJ1_01mg_PO1_500ug_000rpm_00-00min_NA\n",
      "JJ1_01mg_PO1_500ug_200rpm_10-00min_PM\n",
      "JJ1_01mg_PO1_500ug_200rpm_10-00min_ST\n",
      "JJ1_01mg_PS2_010ug_000rpm_00-00min_NA\n",
      "JJ1_01mg_PS2_010ug_200rpm_10-00min_PM\n",
      "JJ1_01mg_PS2_010ug_200rpm_10-00min_ST\n",
      "JJ1_01mg_PS2_050ug_000rpm_00-00min_NA\n",
      "JJ1_01mg_PS2_050ug_200rpm_10-00min_PM\n",
      "JJ1_01mg_PS2_050ug_200rpm_10-00min_ST\n",
      "JJ1_01mg_PS2_100ug_000rpm_00-00min_NA\n",
      "JJ1_01mg_PS2_100ug_200rpm_10-00min_PM\n",
      "JJ1_01mg_PS2_100ug_200rpm_10-00min_ST\n",
      "JJ1_01mg_PS2_250ug_200rpm_10-00min_PM\n",
      "JJ1_01mg_PS2_250ug_200rpm_10-00min_ST\n",
      "JJ1_01mg_PS2_500ug_000rpm_00-00min_NA\n",
      "JJ1_01mg_PS2_500ug_200rpm_10-00min_PM\n",
      "JJ1_01mg_PS2_500ug_200rpm_10-00min_ST\n",
      "JJ1_01mg_PS8_010ug_000rpm_00-00min_NA\n",
      "JJ1_01mg_PS8_010ug_200rpm_10-00min_PM\n",
      "JJ1_01mg_PS8_010ug_200rpm_10-00min_ST\n",
      "JJ1_01mg_PS8_050ug_000rpm_00-00min_NA\n",
      "JJ1_01mg_PS8_050ug_200rpm_10-00min_PM\n",
      "JJ1_01mg_PS8_050ug_200rpm_10-00min_ST\n",
      "JJ1_01mg_PS8_100ug_000rpm_00-00min_NA\n",
      "JJ1_01mg_PS8_100ug_200rpm_10-00min_PM\n",
      "JJ1_01mg_PS8_100ug_200rpm_10-00min_ST\n",
      "JJ1_01mg_PS8_250ug_200rpm_10-00min_PM\n",
      "JJ1_01mg_PS8_250ug_200rpm_10-00min_ST\n",
      "JJ1_01mg_PS8_500ug_000rpm_00-00min_NA\n",
      "JJ1_01mg_PS8_500ug_200rpm_10-00min_PM\n",
      "JJ1_01mg_PS8_500ug_200rpm_10-00min_ST\n",
      "JJ1_02mg_200rpm_10-00min_PM\n",
      "JJ1_02mg_200rpm_10-00min_ST\n",
      "JJ1_10mg_000rpm_00-00min_NA\n",
      "JJ1_10mg_200rpm_10-00min_PM\n",
      "JJ1_10mg_200rpm_10-00min_ST\n",
      "JJ1_10mg_AIR_010%v_200rpm_10-00min_PM\n",
      "JJ1_10mg_AIR_050%v_200rpm_10-00min_PM\n",
      "JJ1_10mg_PS2_250ug_000rpm_00-00min_NA\n",
      "JJ1_10mg_PS2_250ug_200rpm_10-00min_PM\n",
      "JJ1_10mg_PS2_250ug_200rpm_10-00min_ST\n",
      "JJ1_50mg_000rpm_00-00min_NA\n",
      "JJ1_50mg_200rpm_10-00min_PM\n",
      "JJ1_50mg_200rpm_10-00min_ST\n",
      "JJ1_50mg_AIR_010%v_200rpm_10-00min_PM\n",
      "JJ1_50mg_PS2_500ug_000rpm_00-00min_NA\n",
      "JJ1_50mg_PS2_500ug_200rpm_10-00min_PM\n",
      "JJ1_50mg_PS2_500ug_200rpm_10-00min_ST\n",
      "JJ2_01mg_000rpm_00-00min_NA\n",
      "JJ2_01mg_200rpm_10-00min_PM\n",
      "JJ2_01mg_200rpm_10-00min_ST\n",
      "JJ3_01mg_000rpm_00-00min_NA\n",
      "JJ3_01mg_200rpm_10-00min_PM\n",
      "JJ3_01mg_200rpm_10-00min_ST\n",
      "JJ4_01mg_000rpm_00-00min_NA\n",
      "JJ4_01mg_200rpm_10-00min_PM\n",
      "JJ4_01mg_200rpm_10-00min_ST\n",
      "PBS_00mg_BSA_001mg_000rpm_00-00min_NA\n",
      "PBS_00mg_PS2_500ug_000rpm_00-00min_NA\n",
      "PBS_00mg_PS2_500ug_300rpm_20-00min_ST\n",
      "PBS_00mg_PS2_500ug_300rpm_40-00min_ST\n",
      "SST_00mg_000rpm_00-00min_NA\n"
     ]
    }
   ],
   "source": [
    "# Merge data from the csv-files\n",
    "output = jd.mergeDataDLS(allFilesDLS, corrData, intData)\n",
    "\n",
    "# Extract variables from output list\n",
    "[corrData, intData, collFilesDLS] = output"
   ]
  },
  {
   "cell_type": "markdown",
   "id": "3b345759",
   "metadata": {},
   "source": [
    "# 2. Microflow Digital Imaging (MDI)"
   ]
  },
  {
   "cell_type": "markdown",
   "id": "8fb07a1a",
   "metadata": {},
   "source": [
    "## 2.1 Folder and File Detection\n",
    "\n",
    "Detect folders and contained data, import data and merge same experiment. Merged (+ averaged) data is additionally exported in the CSV format."
   ]
  },
  {
   "cell_type": "markdown",
   "id": "8e1ba89b",
   "metadata": {},
   "source": [
    "### 2.1.1 Set Path to MDI Data Folders\n",
    "This part might have to be adapted depending on the location of the data (relative to location of jupyter notebook file)."
   ]
  },
  {
   "cell_type": "code",
   "execution_count": 10,
   "id": "5b158b93",
   "metadata": {},
   "outputs": [],
   "source": [
    "# Set path of MDI data folders\n",
    "pathsMDI = glob.glob(os.path.join('01_Data', '02_MDI', '01_Raw', '*'))"
   ]
  },
  {
   "cell_type": "markdown",
   "id": "247f7f84",
   "metadata": {},
   "source": [
    "### 2.1.2 Scan Folders"
   ]
  },
  {
   "cell_type": "code",
   "execution_count": 11,
   "id": "045b66b3",
   "metadata": {},
   "outputs": [
    {
     "name": "stdout",
     "output_type": "stream",
     "text": [
      "The following folders have been detected: \n",
      " \n",
      " ['01_Reference', '02_Time_Series', '03_Surfactant', '04_Protein', '05_Concentration', '06_Air', 'xx_unused'] \n",
      "\n",
      "The CSV-files of each folder are stored in the dictionary \"csvFiles\"! \n",
      "\n",
      "Note: The corresponding foldername serves as a key, i.e. csvFiles[folder] = \"CSV files inside folder\". \n",
      "\n"
     ]
    }
   ],
   "source": [
    "# Scan the given folders\n",
    "output = jd.scanFolders(pathsMDI)\n",
    "\n",
    "# Extract variables from output list\n",
    "[foldersMDI, csvFilesMDI] = output"
   ]
  },
  {
   "cell_type": "markdown",
   "id": "f985a7de",
   "metadata": {},
   "source": [
    "### 2.1.3 Extract Data"
   ]
  },
  {
   "cell_type": "code",
   "execution_count": 12,
   "id": "f8782fac",
   "metadata": {},
   "outputs": [
    {
     "name": "stdout",
     "output_type": "stream",
     "text": [
      "The correlation and intensity data from the CSV-files are stored in the dictionaries \"corrData\" and \"intData\" \n",
      "\n",
      "with respective filenames as keys, i.e. corrData[filename] = \"correlation data inside given file\"! \n",
      "\n"
     ]
    }
   ],
   "source": [
    "# Extract data from the csv-files\n",
    "output = jd.extractDataMDI(foldersMDI, csvFilesMDI)\n",
    "\n",
    "# Extract variables from output list\n",
    "[allFilesMDI, countData] = output"
   ]
  },
  {
   "cell_type": "markdown",
   "id": "1ba5c076",
   "metadata": {},
   "source": [
    "### 2.1.4 Merge Experimental Data"
   ]
  },
  {
   "cell_type": "code",
   "execution_count": 13,
   "id": "3cc94a3d",
   "metadata": {},
   "outputs": [
    {
     "name": "stdout",
     "output_type": "stream",
     "text": [
      "The following collections of same experimental conditions are generated (with different suffixes): \n",
      "\n",
      "H2O_00mg_000rpm_00-00min_NA\n",
      "H2O_00mg_200rpm_10-00min_PM\n",
      "H2O_00mg_200rpm_10-00min_ST\n",
      "JJ1_01mg_000rpm_00-00min_NA\n",
      "JJ1_01mg_000rpm_10-00min_PM\n",
      "JJ1_01mg_000rpm_10-00min_ST\n",
      "JJ1_01mg_200rpm_10-00min_PM\n",
      "JJ1_01mg_200rpm_10-00min_ST\n",
      "JJ1_01mg_AIR_010%v_200rpm_10-00min_PM\n",
      "JJ1_01mg_PO1_010ug_200rpm_10-00min_PM\n",
      "JJ1_01mg_PO1_010ug_200rpm_10-00min_ST\n",
      "JJ1_01mg_PO1_050ug_200rpm_10-00min_PA\n",
      "JJ1_01mg_PO1_050ug_200rpm_10-00min_PM\n",
      "JJ1_01mg_PO1_050ug_200rpm_10-00min_ST\n",
      "JJ1_01mg_PO1_100ug_200rpm_10-00min_PM\n",
      "JJ1_01mg_PO1_100ug_200rpm_10-00min_ST\n",
      "JJ1_01mg_PO1_250ug_200rpm_10-00min_PM\n",
      "JJ1_01mg_PO1_250ug_200rpm_10-00min_ST\n",
      "JJ1_01mg_PO1_500ug_000rpm_00-00min_NA\n",
      "JJ1_01mg_PO1_500ug_200rpm_10-00min_PM\n",
      "JJ1_01mg_PO1_500ug_200rpm_10-00min_ST\n",
      "JJ1_01mg_PS2_010ug_200rpm_10-00min_PM\n",
      "JJ1_01mg_PS2_010ug_200rpm_10-00min_ST\n",
      "JJ1_01mg_PS2_050ug_200rpm_10-00min_PM\n",
      "JJ1_01mg_PS2_050ug_200rpm_10-00min_ST\n",
      "JJ1_01mg_PS2_100ug_200rpm_10-00min_PM\n",
      "JJ1_01mg_PS2_100ug_200rpm_10-00min_ST\n",
      "JJ1_01mg_PS2_250ug_200rpm_10-00min_PM\n",
      "JJ1_01mg_PS2_250ug_200rpm_10-00min_ST\n",
      "JJ1_01mg_PS2_500ug_000rpm_00-00min_NA\n",
      "JJ1_01mg_PS2_500ug_200rpm_10-00min_PM\n",
      "JJ1_01mg_PS2_500ug_200rpm_10-00min_ST\n",
      "JJ1_01mg_PS8_010ug_200rpm_10-00min_PM\n",
      "JJ1_01mg_PS8_010ug_200rpm_10-00min_ST\n",
      "JJ1_01mg_PS8_050ug_200rpm_10-00min_PM\n",
      "JJ1_01mg_PS8_050ug_200rpm_10-00min_ST\n",
      "JJ1_01mg_PS8_100ug_200rpm_10-00min_PM\n",
      "JJ1_01mg_PS8_100ug_200rpm_10-00min_ST\n",
      "JJ1_01mg_PS8_250ug_200rpm_10-00min_PM\n",
      "JJ1_01mg_PS8_250ug_200rpm_10-00min_ST\n",
      "JJ1_01mg_PS8_500ug_000rpm_00-00min_NA\n",
      "JJ1_01mg_PS8_500ug_200rpm_10-00min_PM\n",
      "JJ1_01mg_PS8_500ug_200rpm_10-00min_ST\n",
      "JJ1_10mg_000rpm_00-00min_NA\n",
      "JJ1_10mg_200rpm_10-00min_PM\n",
      "JJ1_10mg_200rpm_10-00min_ST\n",
      "JJ1_10mg_AIR_010%v_200rpm_10-00min_PM\n",
      "JJ1_10mg_AIR_050%v_200rpm_10-00min_PM\n",
      "JJ1_10mg_PS2_250ug_000rpm_00-00min_NA\n",
      "JJ1_10mg_PS2_250ug_200rpm_10-00min_PM\n",
      "JJ1_10mg_PS2_250ug_200rpm_10-00min_ST\n",
      "JJ1_50mg_000rpm_00-00min_NA\n",
      "JJ1_50mg_200rpm_10-00min_PM\n",
      "JJ1_50mg_200rpm_10-00min_ST\n",
      "JJ1_50mg_AIR_010%v_200rpm_10-00min_PM\n",
      "JJ1_50mg_PS2_500ug_200rpm_10-00min_PM\n",
      "JJ1_50mg_PS2_500ug_200rpm_10-00min_ST\n",
      "JJ2_01mg_200rpm_10-00min_PM\n",
      "JJ2_01mg_200rpm_10-00min_ST\n",
      "JJ3_01mg_200rpm_10-00min_PM\n",
      "JJ3_01mg_200rpm_10-00min_ST\n",
      "JJ4_01mg_200rpm_10-00min_PM\n",
      "JJ4_01mg_200rpm_10-00min_ST\n"
     ]
    }
   ],
   "source": [
    "# Merge data from the csv-files\n",
    "output = jd.mergeDataMDI(allFilesMDI, countData)\n",
    "\n",
    "# Extract variables from output list\n",
    "[countData, collFilesMDI] = output"
   ]
  },
  {
   "cell_type": "markdown",
   "id": "c1b767b3",
   "metadata": {},
   "source": [
    "#### Correction for Surface Abrasion"
   ]
  },
  {
   "cell_type": "markdown",
   "id": "c0d4b233",
   "metadata": {},
   "source": [
    "##### UNDER CONSTRUCTION"
   ]
  },
  {
   "cell_type": "code",
   "execution_count": 14,
   "id": "d0df5269",
   "metadata": {},
   "outputs": [
    {
     "data": {
      "text/plain": [
       "\"\\nfor collFile in collFilesMDI:\\n            \\n    prot = collFile[0:3]\\n    rpm = collFile[-18:-15]\\n    mat = collFile[-2:]\\n\\n    if prot != 'H2O' and mat == 'PM' and rpm != '000':\\n\\n        for col in range(countData[collFile].shape[1]):\\n            countData[collFile][:,col] = np.subtract(countData[collFile][:,col], np.mean(countData['H2O_00mg_200rpm_10-00min_PM'], axis=1))\\n\\n    elif prot != 'H2O' and mat == 'ST' and rpm != '000':\\n\\n        for col in range(countData[collFile].shape[1]):\\n            countData[collFile][:,col] = np.subtract(countData[collFile][:,col], np.mean(countData['H2O_00mg_200rpm_10-00min_ST'], axis=1))\\n\\n    else:\\n        print(collFile)\\n\""
      ]
     },
     "execution_count": 14,
     "metadata": {},
     "output_type": "execute_result"
    }
   ],
   "source": [
    "\"\"\"\n",
    "for collFile in collFilesMDI:\n",
    "            \n",
    "    prot = collFile[0:3]\n",
    "    rpm = collFile[-18:-15]\n",
    "    mat = collFile[-2:]\n",
    "\n",
    "    if prot != 'H2O' and mat == 'PM' and rpm != '000':\n",
    "\n",
    "        for col in range(countData[collFile].shape[1]):\n",
    "            countData[collFile][:,col] = np.subtract(countData[collFile][:,col], np.mean(countData['H2O_00mg_200rpm_10-00min_PM'], axis=1))\n",
    "\n",
    "    elif prot != 'H2O' and mat == 'ST' and rpm != '000':\n",
    "\n",
    "        for col in range(countData[collFile].shape[1]):\n",
    "            countData[collFile][:,col] = np.subtract(countData[collFile][:,col], np.mean(countData['H2O_00mg_200rpm_10-00min_ST'], axis=1))\n",
    "\n",
    "    else:\n",
    "        print(collFile)\n",
    "\"\"\""
   ]
  },
  {
   "cell_type": "markdown",
   "id": "dfd3d0b9",
   "metadata": {},
   "source": [
    "# 3. Data Visualization (of DLS & MDI Data)"
   ]
  },
  {
   "cell_type": "markdown",
   "id": "d341dc6a",
   "metadata": {},
   "source": [
    "## 3.1 Automatized Plotting"
   ]
  },
  {
   "cell_type": "markdown",
   "id": "53bc9eab",
   "metadata": {},
   "source": [
    "#### Remove old auto plots (.png)"
   ]
  },
  {
   "cell_type": "code",
   "execution_count": 15,
   "id": "235bf550",
   "metadata": {},
   "outputs": [],
   "source": [
    "if plotDLS and not onlyOverview:\n",
    "\n",
    "    plotsCollDLS = glob.glob(os.path.join('02_Plots', 'DLS', 'Collection', 'PNG', '*.png'))\n",
    "    plotsAvgDLS = glob.glob(os.path.join('02_Plots', 'DLS', 'Average', 'PNG', '*.png'))\n",
    "\n",
    "    for plotCollDLS, plotAvgDLS in zip(plotsCollDLS, plotsAvgDLS):\n",
    "\n",
    "        os.remove(plotCollDLS)\n",
    "        os.remove(plotAvgDLS)\n",
    "                \n",
    "if plotMDI and not onlyOverview:\n",
    "    \n",
    "    plotsCollLinMDI = glob.glob(os.path.join('02_Plots', 'MDI', 'Collection', 'Linear', 'PNG', '*.png'))\n",
    "    plotsAvgLinMDI = glob.glob(os.path.join('02_Plots', 'MDI', 'Average', 'Linear', 'PNG', '*.png'))\n",
    "    \n",
    "    plotsCollLogMDI = glob.glob(os.path.join('02_Plots', 'MDI', 'Collection', 'Log', 'PNG', '*.png'))\n",
    "    plotsAvgLogMDI = glob.glob(os.path.join('02_Plots', 'MDI', 'Average', 'Log', 'PNG', '*.png'))\n",
    "\n",
    "    for plotCollLinMDI, plotAvgLinMDI in zip(plotsCollLinMDI, plotsAvgLinMDI):\n",
    "\n",
    "        os.remove(plotCollLinMDI)\n",
    "        os.remove(plotAvgLinMDI)\n",
    "\n",
    "    for plotCollLogMDI, plotAvgLogMDI in zip(plotsCollLogMDI, plotsAvgLogMDI):\n",
    "\n",
    "        os.remove(plotCollLogMDI)\n",
    "        os.remove(plotAvgLogMDI)\n",
    "    \n",
    "    \n",
    "if (plotDLS or plotMDI) and not onlyOverview:\n",
    "    print('All old plots have been deleted.')"
   ]
  },
  {
   "cell_type": "markdown",
   "id": "973e403b",
   "metadata": {},
   "source": [
    "#### DLS ↓ "
   ]
  },
  {
   "cell_type": "code",
   "execution_count": 16,
   "id": "96ac6adf",
   "metadata": {
    "scrolled": true
   },
   "outputs": [],
   "source": [
    "if plotDLS and not onlyOverview:\n",
    "    \n",
    "    # Set plotting parameters\n",
    "    plotAverage = [0, 1]\n",
    "    \n",
    "    param = []\n",
    "    \n",
    "    for avg in plotAverage:\n",
    "    \n",
    "        # Set parameter lists containing plotting parameters\n",
    "        # param = [autoPlot, plotIntensity, plotAverage, plotNumberOfExp, plotFileName, \n",
    "        #         plotTitle, plotLegend, colors, cmap, font, showTitle]\n",
    "        param.append([1, 1, avg, 1, '', '', [], [0], cmap, font, showTitle])\n",
    "\n",
    "    numCollFilesDLS = len(collFilesDLS)\n",
    "    \n",
    "    # Create instance of progress bar\n",
    "    progBar = widgets.IntProgress(min=0, max=numCollFilesDLS)\n",
    "    \n",
    "    print('Plotting and saving all collection and average plots (saved as .PDF and .PNG files): \\n')\n",
    "        \n",
    "    # Display progress bar\n",
    "    display(progBar)\n",
    "    \n",
    "    for fileName in collFilesDLS:\n",
    "        \n",
    "        # Increment progress value\n",
    "        progBar.value += 1\n",
    "        \n",
    "        for i in range(len(plotAverage)):\n",
    "            # Call plotting function\n",
    "            jp.plotDLS(corrData, intData, [fileName], param[i])"
   ]
  },
  {
   "cell_type": "markdown",
   "id": "b817b9fd",
   "metadata": {},
   "source": [
    "#### MDI ↓ "
   ]
  },
  {
   "cell_type": "code",
   "execution_count": 17,
   "id": "14cdb8cf",
   "metadata": {
    "scrolled": true
   },
   "outputs": [],
   "source": [
    "if plotMDI and not onlyOverview: \n",
    "\n",
    "    # Set plotting parameters\n",
    "    plotLimits = [0, [10, 1e9]]\n",
    "    logPlot = [0, 1]\n",
    "    rmFirstBin = [1, 0]\n",
    "    plotAverage = [0, 1]\n",
    "    \n",
    "    param = []\n",
    "    \n",
    "    for i, log in enumerate(logPlot):\n",
    "        for avg in plotAverage:\n",
    "            \n",
    "            if log:\n",
    "                # Set parameter lists containing plotting parameters\n",
    "                # param = [autoPlot, rmFirstBin, logPlot, plotAverage, plotLimits, expNames, plotFileName, \n",
    "                #          plotTitle, colors, cmap, font, showTitle]\n",
    "                param.append([1, 0, log, avg, plotLimits[i], [0], '', '', [0], cmap, font, showTitle])\n",
    "            else:\n",
    "                for rm in rmFirstBin:\n",
    "                    # Set parameter lists containing plotting parameters\n",
    "                    # param = [autoPlot, rmFirstBin, logPlot, plotAverage, plotLimits, expNames, plotFileName, \n",
    "                    #          plotTitle, colors, cmap, font, showTitle]\n",
    "                    param.append([1, rm, log, avg, plotLimits[i], [0], '', '', [0], cmap, font, showTitle])\n",
    "     \n",
    "    numCollFilesMDI = len(collFilesMDI)\n",
    "    \n",
    "    # Create instance of progress bar\n",
    "    progBar = widgets.IntProgress(min=0, max=numCollFilesMDI) # instantiate the bar\n",
    "    \n",
    "    print('Plotting and saving all collection and average plots (saved as .PDF and .PNG files): \\n')\n",
    "    \n",
    "    # Display progress bar\n",
    "    display(progBar)\n",
    "    \n",
    "    for fileName in collFilesMDI:\n",
    "\n",
    "        # Increment progress value\n",
    "        progBar.value += 1\n",
    "        \n",
    "        # Call plotting function\n",
    "        for i in range(len(logPlot) + len(plotAverage) + len(rmFirstBin)-1):\n",
    "            jp.plotMDI(countData, [fileName], param[i])"
   ]
  },
  {
   "cell_type": "markdown",
   "id": "db736715",
   "metadata": {},
   "source": [
    "#### Plot Example ↓"
   ]
  },
  {
   "cell_type": "code",
   "execution_count": 18,
   "id": "6ca107f7",
   "metadata": {},
   "outputs": [
    {
     "data": {
      "text/plain": [
       "\"\\nif not onlyOverview:\\n\\n    plotListDLS = []\\n    plotListMDI = []\\n\\n    # Create list of all plots\\n\\n    for plotName in glob.glob(os.path.join('.', '02_Plots', 'DLS', 'Collection', 'PNG', '*.png')):\\n        plotListDLS.append(plotName)\\n        plotListDLS = sorted(plotListDLS)\\n\\n    for plotName in glob.glob(os.path.join('.', '02_Plots', 'MDI', 'Collection', 'Linear', 'PNG', '*.png')):\\n        plotListMDI.append(plotName)\\n        plotListMDI = sorted(plotListMDI)\\n\\n    # Display an example plot for both measurement techniques\\n    print('DLS Example Plot:')\\n    display(Image(filename=plotListDLS[12], width=800))\\n    print('MDI Example Plot:')\\n    display(Image(filename=plotListMDI[8], width=600))\\n\""
      ]
     },
     "execution_count": 18,
     "metadata": {},
     "output_type": "execute_result"
    }
   ],
   "source": [
    "\"\"\"\n",
    "if not onlyOverview:\n",
    "\n",
    "    plotListDLS = []\n",
    "    plotListMDI = []\n",
    "\n",
    "    # Create list of all plots\n",
    "\n",
    "    for plotName in glob.glob(os.path.join('.', '02_Plots', 'DLS', 'Collection', 'PNG', '*.png')):\n",
    "        plotListDLS.append(plotName)\n",
    "        plotListDLS = sorted(plotListDLS)\n",
    "\n",
    "    for plotName in glob.glob(os.path.join('.', '02_Plots', 'MDI', 'Collection', 'Linear', 'PNG', '*.png')):\n",
    "        plotListMDI.append(plotName)\n",
    "        plotListMDI = sorted(plotListMDI)\n",
    "\n",
    "    # Display an example plot for both measurement techniques\n",
    "    print('DLS Example Plot:')\n",
    "    display(Image(filename=plotListDLS[12], width=800))\n",
    "    print('MDI Example Plot:')\n",
    "    display(Image(filename=plotListMDI[8], width=600))\n",
    "\"\"\""
   ]
  },
  {
   "cell_type": "markdown",
   "id": "067e4cac",
   "metadata": {},
   "source": [
    "## 3.2 Manual Plotting"
   ]
  },
  {
   "cell_type": "markdown",
   "id": "38b31b0f",
   "metadata": {},
   "source": [
    "#### Remove old overview plots (.png)"
   ]
  },
  {
   "cell_type": "code",
   "execution_count": 19,
   "id": "7e55d5ce",
   "metadata": {},
   "outputs": [
    {
     "name": "stdout",
     "output_type": "stream",
     "text": [
      "All old plots have been deleted.\n"
     ]
    }
   ],
   "source": [
    "if plotDLS:\n",
    "\n",
    "    plotsOverviewDLS = glob.glob(os.path.join('02_Plots', 'DLS', 'Overview', 'PNG', '*.png'))\n",
    "\n",
    "    for plotOverviewDLS in plotsOverviewDLS:\n",
    "\n",
    "        os.remove(plotOverviewDLS)\n",
    "\n",
    "if plotMDI:\n",
    "    \n",
    "    plotsOverviewLinMDI = glob.glob(os.path.join('02_Plots', 'MDI', 'Overview', 'Linear', 'PNG', '*.png'))\n",
    "    plotsOverviewLogMDI = glob.glob(os.path.join('02_Plots', 'MDI', 'Overview', 'Log', 'PNG', '*.png'))\n",
    "        \n",
    "    for plotOverviewLinMDI in plotsOverviewLinMDI:\n",
    "\n",
    "        os.remove(plotOverviewLinMDI)\n",
    "\n",
    "    for plotOverviewLogMDI in plotsOverviewLogMDI:\n",
    "\n",
    "        os.remove(plotOverviewLogMDI)\n",
    "    \n",
    "if plotDLS or plotMDI:\n",
    "    print('All old plots have been deleted.')"
   ]
  },
  {
   "cell_type": "markdown",
   "id": "90f402ac",
   "metadata": {},
   "source": [
    "### EVs"
   ]
  },
  {
   "cell_type": "code",
   "execution_count": 20,
   "id": "bb03d8f4",
   "metadata": {},
   "outputs": [
    {
     "name": "stdout",
     "output_type": "stream",
     "text": [
      "Plotting and saving plot (saved as .PDF and .PNG files): \n",
      "\n",
      "HEK-EVs_TimeSteps_ST\n"
     ]
    }
   ],
   "source": [
    "if plotDLS:\n",
    "        \n",
    "    fileNames = ['EVs_3e10_000rpm_00-00min_NA', 'EVs_3e10_300rpm_00-30min_ST', 'EVs_3e10_300rpm_02-00min_ST',\n",
    "                 'EVs_3e10_300rpm_20-00min_ST', 'EVs_3e10_300rpm_40-00min_ST']\n",
    "    plotLegend = ['HEK-EVs, 0 min', 'HEK-EVs, 30 s', 'HEK-EVs, 2 min', 'HEK-EVs, 20 min', 'HEK-EVs, 40 min']\n",
    "\n",
    "    plotName = 'HEK-EVs_TimeSteps_ST'\n",
    "    \n",
    "    plotTitle = 'HEK-EVs, Steel'\n",
    "\n",
    "    print('Plotting and saving plot (saved as .PDF and .PNG files): \\n')\n",
    "\n",
    "    print(plotName)\n",
    "\n",
    "    # Set parameter lists containing plotting parameters\n",
    "    # param = [autoPlot, plotIntensity, plotAverage, plotNumberOfExp, plotFileName, \n",
    "    #          plotTitle, plotLegend, colors, cmap, font, showTitle]\n",
    "    param = [0, 0, 1, 0, plotName, plotTitle, plotLegend, [0], 'coolwarm', font, showTitle]\n",
    "    \n",
    "    # Call plotting function\n",
    "    jp.plotDLS(corrData, intData, fileNames, param)"
   ]
  },
  {
   "cell_type": "code",
   "execution_count": 21,
   "id": "fbfe8c1b",
   "metadata": {},
   "outputs": [
    {
     "name": "stdout",
     "output_type": "stream",
     "text": [
      "Plotting and saving plot (saved as .PDF and .PNG files): \n",
      "\n",
      "RBC-EVs_H2O_PM\n"
     ]
    }
   ],
   "source": [
    "if plotDLS:\n",
    "        \n",
    "    fileNames = ['H2O_00mg_300rpm_20-00min_PM', #'EVs_3e10_000rpm_00-00min_NA', 'EVs_3e10_300rpm_20-00min_PM', \n",
    "                 'EVs_3e10_300rpm_40-00min_PM']\n",
    "    plotLegend = ['MQW, S', #'EVs, Unsheared', 'EVs, Sheared', \n",
    "                  'HEK-EVs, 2S']\n",
    "\n",
    "    plotName = 'RBC-EVs_H2O_PM'\n",
    "    \n",
    "    plotTitle = 'RBC-EVs, PMMA'\n",
    "\n",
    "    print('Plotting and saving plot (saved as .PDF and .PNG files): \\n')\n",
    "\n",
    "    print(plotName)\n",
    "\n",
    "    # Set parameter lists containing plotting parameters\n",
    "    # param = [autoPlot, plotIntensity, plotAverage, plotNumberOfExp, plotFileName, \n",
    "    #          plotTitle, plotLegend, colors, cmap, font, showTitle]\n",
    "    param = [0, 1, 1, 0, plotName, plotTitle, plotLegend, [0], cmap, font, showTitle]\n",
    "    \n",
    "    # Call plotting function\n",
    "    jp.plotDLS(corrData, intData, fileNames, param)"
   ]
  },
  {
   "cell_type": "code",
   "execution_count": 22,
   "id": "6c5e8bb6",
   "metadata": {},
   "outputs": [
    {
     "name": "stdout",
     "output_type": "stream",
     "text": [
      "Plotting and saving plot (saved as .PDF and .PNG files): \n",
      "\n",
      "RBC-EVs_H2O_ST\n"
     ]
    }
   ],
   "source": [
    "if plotDLS:\n",
    "        \n",
    "    fileNames = ['H2O_00mg_200rpm_10-00min_ST', 'EVs_3e10_000rpm_00-00min_NA', 'EVs_3e10_300rpm_20-00min_ST', \n",
    "                 'EVs_3e10_300rpm_40-00min_ST']\n",
    "    plotLegend = ['MQW, S', 'HEK-EVs, U', 'HEK-EVs, S', 'HEK-EVs, 2S']\n",
    "\n",
    "    plotName = 'RBC-EVs_H2O_ST'\n",
    "    \n",
    "    plotTitle = 'RBC-EVs, Steel'\n",
    "\n",
    "    print('Plotting and saving plot (saved as .PDF and .PNG files): \\n')\n",
    "\n",
    "    print(plotName)\n",
    "\n",
    "    # Set parameter lists containing plotting parameters\n",
    "    # param = [autoPlot, plotIntensity, plotAverage, plotNumberOfExp, plotFileName, \n",
    "    #          plotTitle, plotLegend, colors, cmap, font, showTitle]\n",
    "    param = [0, 1, 1, 0, plotName, plotTitle, plotLegend, [0], cmap, font, showTitle]\n",
    "    \n",
    "    # Call plotting function\n",
    "    jp.plotDLS(corrData, intData, fileNames, param)"
   ]
  },
  {
   "cell_type": "code",
   "execution_count": 23,
   "id": "8906e18c",
   "metadata": {},
   "outputs": [
    {
     "name": "stdout",
     "output_type": "stream",
     "text": [
      "Plotting and saving plot (saved as .PDF and .PNG files): \n",
      "\n",
      "HEK-EVs_PM\n"
     ]
    }
   ],
   "source": [
    "if plotDLS:\n",
    "        \n",
    "    fileNames = ['EVs_3e10_000rpm_00-00min_NA', 'EVs_3e10_300rpm_20-00min_PM', \n",
    "                 'EVs_3e10_300rpm_40-00min_PM']\n",
    "    plotLegend = ['HEK-EVs, U', 'HEK-EVs, S', 'HEK-EVs, 2S']\n",
    "\n",
    "    plotName = 'HEK-EVs_PM'\n",
    "    \n",
    "    plotTitle = 'HEK-EVs, PMMA'\n",
    "\n",
    "    print('Plotting and saving plot (saved as .PDF and .PNG files): \\n')\n",
    "\n",
    "    print(plotName)\n",
    "\n",
    "    # Set parameter lists containing plotting parameters\n",
    "    # param = [autoPlot, plotIntensity, plotAverage, plotNumberOfExp, plotFileName, \n",
    "    #          plotTitle, plotLegend, colors, cmap, font, showTitle]\n",
    "    param = [0, 0, 1, 0, plotName, plotTitle, plotLegend, [0], 'coolwarm', font, showTitle]\n",
    "    \n",
    "    # Call plotting function\n",
    "    jp.plotDLS(corrData, intData, fileNames, param)"
   ]
  },
  {
   "cell_type": "code",
   "execution_count": 24,
   "id": "757804c9",
   "metadata": {},
   "outputs": [
    {
     "name": "stdout",
     "output_type": "stream",
     "text": [
      "Plotting and saving plot (saved as .PDF and .PNG files): \n",
      "\n",
      "EVs_ST\n"
     ]
    }
   ],
   "source": [
    "if plotDLS:\n",
    "        \n",
    "    fileNames = ['EVs_3e10_000rpm_00-00min_NA', 'EVs_3e10_300rpm_20-00min_ST', \n",
    "                 'EVs_3e10_300rpm_40-00min_ST']\n",
    "    plotLegend = ['HEK-EVs, U', 'HEK-EVs, S', 'HEK-EVs, 2S']\n",
    "\n",
    "    plotName = 'EVs_ST'\n",
    "    \n",
    "    plotTitle = 'EVs, Steel'\n",
    "\n",
    "    print('Plotting and saving plot (saved as .PDF and .PNG files): \\n')\n",
    "\n",
    "    print(plotName)\n",
    "\n",
    "    # Set parameter lists containing plotting parameters\n",
    "    # param = [autoPlot, plotIntensity, plotAverage, plotNumberOfExp, plotFileName, \n",
    "    #          plotTitle, plotLegend, colors, cmap, font, showTitle]\n",
    "    param = [0, 0, 1, 0, plotName, plotTitle, plotLegend, [0], 'coolwarm', font, showTitle]\n",
    "    \n",
    "    # Call plotting function\n",
    "    jp.plotDLS(corrData, intData, fileNames, param)"
   ]
  },
  {
   "cell_type": "code",
   "execution_count": 25,
   "id": "98c5d749",
   "metadata": {},
   "outputs": [
    {
     "name": "stdout",
     "output_type": "stream",
     "text": [
      "Plotting and saving plot (saved as .PDF and .PNG files): \n",
      "\n",
      "HEK-EVs_BSA_ST\n"
     ]
    }
   ],
   "source": [
    "if plotDLS:\n",
    "        \n",
    "    fileNames = ['EVs_3e10_BSA_010mg_000rpm_00-00min_NA', 'EVs_3e10_BSA_010mg_300rpm_20-00min_ST', \n",
    "                 'EVs_3e10_BSA_010mg_300rpm_40-00min_ST']\n",
    "    plotLegend = ['HEK-EVs + BSA, U', 'HEK-EVs + BSA, S', 'HEK-EVs + BSA, 2S']\n",
    "\n",
    "    plotName = 'HEK-EVs_BSA_ST'\n",
    "    \n",
    "    plotTitle = 'HEK-EVs + BSA, Steel'\n",
    "\n",
    "    print('Plotting and saving plot (saved as .PDF and .PNG files): \\n')\n",
    "\n",
    "    print(plotName)\n",
    "\n",
    "    # Set parameter lists containing plotting parameters\n",
    "    # param = [autoPlot, plotIntensity, plotAverage, plotNumberOfExp, plotFileName, \n",
    "    #          plotTitle, plotLegend, colors, cmap, font, showTitle]\n",
    "    param = [0, 0, 1, 0, plotName, plotTitle, plotLegend, [0], 'coolwarm', font, showTitle]\n",
    "    \n",
    "    # Call plotting function\n",
    "    jp.plotDLS(corrData, intData, fileNames, param)"
   ]
  },
  {
   "cell_type": "code",
   "execution_count": 26,
   "id": "e4a3f5d0",
   "metadata": {},
   "outputs": [
    {
     "name": "stdout",
     "output_type": "stream",
     "text": [
      "Plotting and saving plot (saved as .PDF and .PNG files): \n",
      "\n",
      "RBC-EVs_ST\n"
     ]
    }
   ],
   "source": [
    "if plotDLS:\n",
    "        \n",
    "    fileNames = ['BVs_3e10_000rpm_00-00min_NA', 'BVs_3e10_300rpm_20-00min_ST', \n",
    "                 'BVs_3e10_300rpm_40-00min_ST']\n",
    "    plotLegend = ['RBC-EVs, U', 'RBC-EVs, S', 'RBC-EVs, 2S']\n",
    "\n",
    "    plotName = 'RBC-EVs_ST'\n",
    "    \n",
    "    plotTitle = 'RBC-EVs, Steel'\n",
    "\n",
    "    print('Plotting and saving plot (saved as .PDF and .PNG files): \\n')\n",
    "\n",
    "    print(plotName)\n",
    "\n",
    "    # Set parameter lists containing plotting parameters\n",
    "    # param = [autoPlot, plotIntensity, plotAverage, plotNumberOfExp, plotFileName, \n",
    "    #          plotTitle, plotLegend, colors, cmap, font, showTitle]\n",
    "    param = [0, 0, 1, 0, plotName, plotTitle, plotLegend, [0], 'coolwarm', font, showTitle]\n",
    "    \n",
    "    # Call plotting function\n",
    "    jp.plotDLS(corrData, intData, fileNames, param)"
   ]
  },
  {
   "cell_type": "code",
   "execution_count": 27,
   "id": "8b00c91f",
   "metadata": {},
   "outputs": [
    {
     "name": "stdout",
     "output_type": "stream",
     "text": [
      "Plotting and saving plot (saved as .PDF and .PNG files): \n",
      "\n",
      "HEK-EVs_PS2_ST\n"
     ]
    }
   ],
   "source": [
    "if plotDLS:\n",
    "        \n",
    "    fileNames = ['EVs_3e10_PS2_500ug_000rpm_00-00min_NA', \n",
    "                 'EVs_3e10_PS2_500ug_300rpm_20-00min_ST',\n",
    "                 'EVs_3e10_PS2_500ug_300rpm_40-00min_ST',\n",
    "                 'PBS_00mg_PS2_500ug_000rpm_00-00min_NA']\n",
    "\n",
    "    \n",
    "    plotLegend = ['HEK-EVs + PS20, U', 'HEK-EVs + PS20, S', 'HEK-EVs + PS20, 2S', 'PS20']\n",
    "\n",
    "    plotName = 'HEK-EVs_PS2_ST'\n",
    "    \n",
    "    plotTitle = 'HEK-EVs + PS20, Steel'\n",
    "    \n",
    "    colors = ['slateblue', 'slategray', 'firebrick', 'black']\n",
    "\n",
    "    print('Plotting and saving plot (saved as .PDF and .PNG files): \\n')\n",
    "\n",
    "    print(plotName)\n",
    "\n",
    "    # Set parameter lists containing plotting parameters\n",
    "    # param = [autoPlot, plotIntensity, plotAverage, plotNumberOfExp, plotFileName, \n",
    "    #          plotTitle, plotLegend, colors, cmap, font, showTitle]\n",
    "    param = [0, 0, 1, 0, plotName, plotTitle, plotLegend, colors, 'coolwarm', font, showTitle]\n",
    "    \n",
    "    # Call plotting function\n",
    "    jp.plotDLS(corrData, intData, fileNames, param)"
   ]
  },
  {
   "cell_type": "code",
   "execution_count": 38,
   "id": "87a29642",
   "metadata": {},
   "outputs": [
    {
     "name": "stdout",
     "output_type": "stream",
     "text": [
      "Plotting and saving plot (saved as .PDF and .PNG files): \n",
      "\n",
      "PS20_ST\n"
     ]
    }
   ],
   "source": [
    "if plotDLS:\n",
    "        \n",
    "    fileNames = ['PBS_00mg_PS2_500ug_000rpm_00-00min_NA', \n",
    "                 'PBS_00mg_PS2_500ug_300rpm_20-00min_ST',\n",
    "                 'PBS_00mg_PS2_500ug_300rpm_40-00min_ST']\n",
    "\n",
    "    \n",
    "    plotLegend = ['PS20, U', 'PS20, S', 'PS20, 2S']\n",
    "\n",
    "    plotName = 'PS20_ST'\n",
    "    \n",
    "    plotTitle = 'PS20, Steel'\n",
    "    \n",
    "    print('Plotting and saving plot (saved as .PDF and .PNG files): \\n')\n",
    "\n",
    "    print(plotName)\n",
    "\n",
    "    # Set parameter lists containing plotting parameters\n",
    "    # param = [autoPlot, plotIntensity, plotAverage, plotNumberOfExp, plotFileName, \n",
    "    #          plotTitle, plotLegend, colors, cmap, font, showTitle]\n",
    "    param = [0, 1, 1, 0, plotName, plotTitle, plotLegend, [0], 'coolwarm', font, showTitle]\n",
    "    \n",
    "    # Call plotting function\n",
    "    jp.plotDLS(corrData, intData, fileNames, param)"
   ]
  },
  {
   "cell_type": "code",
   "execution_count": 39,
   "id": "d1382648",
   "metadata": {},
   "outputs": [
    {
     "name": "stdout",
     "output_type": "stream",
     "text": [
      "Plotting and saving plot (saved as .PDF and .PNG files): \n",
      "\n",
      "HEK_PS20_ST\n"
     ]
    }
   ],
   "source": [
    "if plotDLS:\n",
    "        \n",
    "    fileNames = ['PBS_00mg_PS2_500ug_000rpm_00-00min_NA', \n",
    "                 'PBS_00mg_PS2_500ug_300rpm_20-00min_ST',\n",
    "                 'PBS_00mg_PS2_500ug_300rpm_40-00min_ST',\n",
    "                 'EVs_3e10_000rpm_00-00min_NA']\n",
    "\n",
    "    \n",
    "    plotLegend = ['PS20, U', 'PS20, S', 'PS20, 2S', 'HEK-EVs, U']\n",
    "\n",
    "    plotName = 'HEK_PS20_ST'\n",
    "    \n",
    "    plotTitle = 'PS20, Steel'\n",
    "    \n",
    "    print('Plotting and saving plot (saved as .PDF and .PNG files): \\n')\n",
    "\n",
    "    print(plotName)\n",
    "    \n",
    "    colors = ['slateblue', 'slategray', 'firebrick', 'black']\n",
    "\n",
    "    # Set parameter lists containing plotting parameters\n",
    "    # param = [autoPlot, plotIntensity, plotAverage, plotNumberOfExp, plotFileName, \n",
    "    #          plotTitle, plotLegend, colors, cmap, font, showTitle]\n",
    "    param = [0, 1, 1, 0, plotName, plotTitle, plotLegend, colors, 'coolwarm', font, showTitle]\n",
    "    \n",
    "    # Call plotting function\n",
    "    jp.plotDLS(corrData, intData, fileNames, param)"
   ]
  },
  {
   "cell_type": "markdown",
   "id": "78481570",
   "metadata": {},
   "source": [
    "### Background"
   ]
  },
  {
   "cell_type": "markdown",
   "id": "55879786",
   "metadata": {},
   "source": [
    "#### DLS ↓ "
   ]
  },
  {
   "cell_type": "code",
   "execution_count": 29,
   "id": "091f6b73",
   "metadata": {},
   "outputs": [
    {
     "name": "stdout",
     "output_type": "stream",
     "text": [
      "Plotting and saving plot (saved as .PDF and .PNG files): \n",
      "\n",
      "JJ1_01mg_BGr_PM\n"
     ]
    }
   ],
   "source": [
    "if plotDLS:\n",
    "        \n",
    "    fileNames = ['H2O_00mg_000rpm_00-00min_NA', 'H2O_00mg_000rpm_10-00min_PM', 'H2O_00mg_200rpm_10-00min_PM',\n",
    "                 'JJ1_01mg_000rpm_00-00min_NA', 'JJ1_01mg_000rpm_10-00min_PM', 'JJ1_01mg_200rpm_10-00min_PM']\n",
    "    \n",
    "    plotLegend = ['MQW, Direct', 'MQW, Inserted', 'MQW, Sheared', \n",
    "                  'JJ1, Direct', 'JJ1, Inserted', 'JJ1, Sheared']\n",
    "\n",
    "    plotName = 'JJ1_01mg_BGr_PM'\n",
    "    \n",
    "    plotTitle = 'JJmAb1 (1 mg/mL), Background, PMMA'\n",
    "\n",
    "    print('Plotting and saving plot (saved as .PDF and .PNG files): \\n')\n",
    "\n",
    "    print(plotName)\n",
    "\n",
    "    # Set parameter lists containing plotting parameters\n",
    "    # param = [autoPlot, plotIntensity, plotAverage, plotNumberOfExp, plotFileName, \n",
    "    #          plotTitle, plotLegend, colors, cmap, font, showTitle]\n",
    "    param = [0, 0, 1, 0, plotName, plotTitle, plotLegend, [0], cmap, font, showTitle]\n",
    "    \n",
    "    # Call plotting function\n",
    "    jp.plotDLS(corrData, intData, fileNames, param)"
   ]
  },
  {
   "cell_type": "code",
   "execution_count": 30,
   "id": "f59609cc",
   "metadata": {},
   "outputs": [
    {
     "name": "stdout",
     "output_type": "stream",
     "text": [
      "Plotting and saving plot (saved as .PDF and .PNG files): \n",
      "\n",
      "JJ1_01mg_BGr_NoJJ1_PM\n"
     ]
    }
   ],
   "source": [
    "if plotDLS:\n",
    "        \n",
    "    fileNames = ['H2O_00mg_000rpm_00-00min_NA', 'H2O_00mg_000rpm_10-00min_PM', 'H2O_00mg_200rpm_10-00min_PM']\n",
    "    \n",
    "    plotLegend = ['MQW, Direct', 'MQW, Inserted', 'MQW, Sheared']\n",
    "\n",
    "    plotName = 'JJ1_01mg_BGr_NoJJ1_PM'\n",
    "    \n",
    "    plotTitle = 'JJmAb1 (1 mg/mL), Background, PMMA'\n",
    "\n",
    "    print('Plotting and saving plot (saved as .PDF and .PNG files): \\n')\n",
    "\n",
    "    print(plotName)\n",
    "\n",
    "    # Set parameter lists containing plotting parameters\n",
    "    # param = [autoPlot, plotIntensity, plotAverage, plotNumberOfExp, plotFileName, \n",
    "    #          plotTitle, plotLegend, colors, cmap, font, showTitle]\n",
    "    param = [0, 0, 1, 0, plotName, plotTitle, plotLegend, [0], cmap, font, showTitle]\n",
    "    \n",
    "    # Call plotting function\n",
    "    jp.plotDLS(corrData, intData, fileNames, param)"
   ]
  },
  {
   "cell_type": "code",
   "execution_count": 31,
   "id": "ee0bce88",
   "metadata": {},
   "outputs": [
    {
     "name": "stdout",
     "output_type": "stream",
     "text": [
      "Plotting and saving plot (saved as .PDF and .PNG files): \n",
      "\n",
      "JJ1_01mg_BGr_ST\n"
     ]
    }
   ],
   "source": [
    "if plotDLS:\n",
    "        \n",
    "    fileNames = ['H2O_00mg_000rpm_00-00min_NA', 'H2O_00mg_000rpm_10-00min_ST', 'H2O_00mg_200rpm_10-00min_ST',\n",
    "                 'JJ1_01mg_000rpm_00-00min_NA', 'JJ1_01mg_000rpm_10-00min_ST', 'JJ1_01mg_200rpm_10-00min_ST']\n",
    "    \n",
    "    plotLegend = ['MQW, Direct', 'MQW, Inserted', 'MQW, Sheared', \n",
    "                  'JJ1, Direct', 'JJ1, Inserted', 'JJ1, Sheared']\n",
    "\n",
    "    plotName = 'JJ1_01mg_BGr_ST'\n",
    "    \n",
    "    plotTitle = 'JJmAb1 (1 mg/mL), Background, Steel'\n",
    "\n",
    "    print('Plotting and saving plot (saved as .PDF and .PNG files): \\n')\n",
    "\n",
    "    print(plotName)\n",
    "\n",
    "    # Set parameter lists containing plotting parameters\n",
    "    # param = [autoPlot, plotIntensity, plotAverage, plotNumberOfExp, plotFileName, \n",
    "    #          plotTitle, plotLegend, colors, cmap, font, showTitle]\n",
    "    param = [0, 0, 1, 0, plotName, plotTitle, plotLegend, [0], cmap, font, showTitle]\n",
    "    \n",
    "    # Call plotting function\n",
    "    jp.plotDLS(corrData, intData, fileNames, param)"
   ]
  },
  {
   "cell_type": "code",
   "execution_count": 32,
   "id": "f2118675",
   "metadata": {},
   "outputs": [
    {
     "name": "stdout",
     "output_type": "stream",
     "text": [
      "Plotting and saving plot (saved as .PDF and .PNG files): \n",
      "\n",
      "JJ1_01mg_BGr_NoJJ1_ST\n"
     ]
    },
    {
     "ename": "KeyboardInterrupt",
     "evalue": "",
     "output_type": "error",
     "traceback": [
      "\u001b[0;31m---------------------------------------------------------------------------\u001b[0m",
      "\u001b[0;31mAttributeError\u001b[0m                            Traceback (most recent call last)",
      "\u001b[0;32m~/miniconda3/lib/python3.9/site-packages/PIL/ImageFile.py\u001b[0m in \u001b[0;36m_save\u001b[0;34m(im, fp, tile, bufsize)\u001b[0m\n\u001b[1;32m    502\u001b[0m     \u001b[0;32mtry\u001b[0m\u001b[0;34m:\u001b[0m\u001b[0;34m\u001b[0m\u001b[0;34m\u001b[0m\u001b[0m\n\u001b[0;32m--> 503\u001b[0;31m         \u001b[0mfh\u001b[0m \u001b[0;34m=\u001b[0m \u001b[0mfp\u001b[0m\u001b[0;34m.\u001b[0m\u001b[0mfileno\u001b[0m\u001b[0;34m(\u001b[0m\u001b[0;34m)\u001b[0m\u001b[0;34m\u001b[0m\u001b[0;34m\u001b[0m\u001b[0m\n\u001b[0m\u001b[1;32m    504\u001b[0m         \u001b[0mfp\u001b[0m\u001b[0;34m.\u001b[0m\u001b[0mflush\u001b[0m\u001b[0;34m(\u001b[0m\u001b[0;34m)\u001b[0m\u001b[0;34m\u001b[0m\u001b[0;34m\u001b[0m\u001b[0m\n",
      "\u001b[0;31mAttributeError\u001b[0m: '_idat' object has no attribute 'fileno'",
      "\nDuring handling of the above exception, another exception occurred:\n",
      "\u001b[0;31mKeyboardInterrupt\u001b[0m                         Traceback (most recent call last)",
      "\u001b[0;32m/var/folders/b3/hlft3w2x583166xmfn5vcnpr0000gn/T/ipykernel_17660/725167776.py\u001b[0m in \u001b[0;36m<module>\u001b[0;34m\u001b[0m\n\u001b[1;32m     19\u001b[0m \u001b[0;34m\u001b[0m\u001b[0m\n\u001b[1;32m     20\u001b[0m     \u001b[0;31m# Call plotting function\u001b[0m\u001b[0;34m\u001b[0m\u001b[0;34m\u001b[0m\u001b[0m\n\u001b[0;32m---> 21\u001b[0;31m     \u001b[0mjp\u001b[0m\u001b[0;34m.\u001b[0m\u001b[0mplotDLS\u001b[0m\u001b[0;34m(\u001b[0m\u001b[0mcorrData\u001b[0m\u001b[0;34m,\u001b[0m \u001b[0mintData\u001b[0m\u001b[0;34m,\u001b[0m \u001b[0mfileNames\u001b[0m\u001b[0;34m,\u001b[0m \u001b[0mparam\u001b[0m\u001b[0;34m)\u001b[0m\u001b[0;34m\u001b[0m\u001b[0;34m\u001b[0m\u001b[0m\n\u001b[0m",
      "\u001b[0;32m~/Desktop/MasterThesis_DataAnalysis/03_JupyterNotebooks/../04_AdditionalCode/jupyterPlot.py\u001b[0m in \u001b[0;36mplotDLS\u001b[0;34m(corrData, intData, fileNames, param)\u001b[0m\n\u001b[1;32m    336\u001b[0m     \u001b[0;31m# Save plot\u001b[0m\u001b[0;34m\u001b[0m\u001b[0;34m\u001b[0m\u001b[0m\n\u001b[1;32m    337\u001b[0m     \u001b[0mplt\u001b[0m\u001b[0;34m.\u001b[0m\u001b[0msavefig\u001b[0m\u001b[0;34m(\u001b[0m\u001b[0mos\u001b[0m\u001b[0;34m.\u001b[0m\u001b[0mpath\u001b[0m\u001b[0;34m.\u001b[0m\u001b[0mjoin\u001b[0m\u001b[0;34m(\u001b[0m\u001b[0;34m'02_Plots'\u001b[0m\u001b[0;34m,\u001b[0m \u001b[0mexportNamePdf\u001b[0m\u001b[0;34m)\u001b[0m\u001b[0;34m,\u001b[0m \u001b[0mbbox_inches\u001b[0m\u001b[0;34m=\u001b[0m\u001b[0;34m'tight'\u001b[0m\u001b[0;34m)\u001b[0m\u001b[0;34m\u001b[0m\u001b[0;34m\u001b[0m\u001b[0m\n\u001b[0;32m--> 338\u001b[0;31m     \u001b[0mplt\u001b[0m\u001b[0;34m.\u001b[0m\u001b[0msavefig\u001b[0m\u001b[0;34m(\u001b[0m\u001b[0mos\u001b[0m\u001b[0;34m.\u001b[0m\u001b[0mpath\u001b[0m\u001b[0;34m.\u001b[0m\u001b[0mjoin\u001b[0m\u001b[0;34m(\u001b[0m\u001b[0;34m'02_Plots'\u001b[0m\u001b[0;34m,\u001b[0m \u001b[0mexportNamePng\u001b[0m\u001b[0;34m)\u001b[0m\u001b[0;34m,\u001b[0m \u001b[0mbbox_inches\u001b[0m\u001b[0;34m=\u001b[0m\u001b[0;34m'tight'\u001b[0m\u001b[0;34m)\u001b[0m\u001b[0;34m\u001b[0m\u001b[0;34m\u001b[0m\u001b[0m\n\u001b[0m\u001b[1;32m    339\u001b[0m \u001b[0;34m\u001b[0m\u001b[0m\n\u001b[1;32m    340\u001b[0m     \u001b[0;31m# Don't show plot in jupyter notebook\u001b[0m\u001b[0;34m\u001b[0m\u001b[0;34m\u001b[0m\u001b[0m\n",
      "\u001b[0;32m~/miniconda3/lib/python3.9/site-packages/matplotlib/pyplot.py\u001b[0m in \u001b[0;36msavefig\u001b[0;34m(*args, **kwargs)\u001b[0m\n\u001b[1;32m    952\u001b[0m \u001b[0;32mdef\u001b[0m \u001b[0msavefig\u001b[0m\u001b[0;34m(\u001b[0m\u001b[0;34m*\u001b[0m\u001b[0margs\u001b[0m\u001b[0;34m,\u001b[0m \u001b[0;34m**\u001b[0m\u001b[0mkwargs\u001b[0m\u001b[0;34m)\u001b[0m\u001b[0;34m:\u001b[0m\u001b[0;34m\u001b[0m\u001b[0;34m\u001b[0m\u001b[0m\n\u001b[1;32m    953\u001b[0m     \u001b[0mfig\u001b[0m \u001b[0;34m=\u001b[0m \u001b[0mgcf\u001b[0m\u001b[0;34m(\u001b[0m\u001b[0;34m)\u001b[0m\u001b[0;34m\u001b[0m\u001b[0;34m\u001b[0m\u001b[0m\n\u001b[0;32m--> 954\u001b[0;31m     \u001b[0mres\u001b[0m \u001b[0;34m=\u001b[0m \u001b[0mfig\u001b[0m\u001b[0;34m.\u001b[0m\u001b[0msavefig\u001b[0m\u001b[0;34m(\u001b[0m\u001b[0;34m*\u001b[0m\u001b[0margs\u001b[0m\u001b[0;34m,\u001b[0m \u001b[0;34m**\u001b[0m\u001b[0mkwargs\u001b[0m\u001b[0;34m)\u001b[0m\u001b[0;34m\u001b[0m\u001b[0;34m\u001b[0m\u001b[0m\n\u001b[0m\u001b[1;32m    955\u001b[0m     \u001b[0mfig\u001b[0m\u001b[0;34m.\u001b[0m\u001b[0mcanvas\u001b[0m\u001b[0;34m.\u001b[0m\u001b[0mdraw_idle\u001b[0m\u001b[0;34m(\u001b[0m\u001b[0;34m)\u001b[0m  \u001b[0;31m# Need this if 'transparent=True', to reset colors.\u001b[0m\u001b[0;34m\u001b[0m\u001b[0;34m\u001b[0m\u001b[0m\n\u001b[1;32m    956\u001b[0m     \u001b[0;32mreturn\u001b[0m \u001b[0mres\u001b[0m\u001b[0;34m\u001b[0m\u001b[0;34m\u001b[0m\u001b[0m\n",
      "\u001b[0;32m~/miniconda3/lib/python3.9/site-packages/matplotlib/figure.py\u001b[0m in \u001b[0;36msavefig\u001b[0;34m(self, fname, transparent, **kwargs)\u001b[0m\n\u001b[1;32m   3272\u001b[0m                         ax.patch._cm_set(facecolor='none', edgecolor='none'))\n\u001b[1;32m   3273\u001b[0m \u001b[0;34m\u001b[0m\u001b[0m\n\u001b[0;32m-> 3274\u001b[0;31m             \u001b[0mself\u001b[0m\u001b[0;34m.\u001b[0m\u001b[0mcanvas\u001b[0m\u001b[0;34m.\u001b[0m\u001b[0mprint_figure\u001b[0m\u001b[0;34m(\u001b[0m\u001b[0mfname\u001b[0m\u001b[0;34m,\u001b[0m \u001b[0;34m**\u001b[0m\u001b[0mkwargs\u001b[0m\u001b[0;34m)\u001b[0m\u001b[0;34m\u001b[0m\u001b[0;34m\u001b[0m\u001b[0m\n\u001b[0m\u001b[1;32m   3275\u001b[0m \u001b[0;34m\u001b[0m\u001b[0m\n\u001b[1;32m   3276\u001b[0m     def ginput(self, n=1, timeout=30, show_clicks=True,\n",
      "\u001b[0;32m~/miniconda3/lib/python3.9/site-packages/matplotlib/backend_bases.py\u001b[0m in \u001b[0;36mprint_figure\u001b[0;34m(self, filename, dpi, facecolor, edgecolor, orientation, format, bbox_inches, pad_inches, bbox_extra_artists, backend, **kwargs)\u001b[0m\n\u001b[1;32m   2336\u001b[0m                 \u001b[0;31m# force the figure dpi to 72), so we need to set it again here.\u001b[0m\u001b[0;34m\u001b[0m\u001b[0;34m\u001b[0m\u001b[0m\n\u001b[1;32m   2337\u001b[0m                 \u001b[0;32mwith\u001b[0m \u001b[0mcbook\u001b[0m\u001b[0;34m.\u001b[0m\u001b[0m_setattr_cm\u001b[0m\u001b[0;34m(\u001b[0m\u001b[0mself\u001b[0m\u001b[0;34m.\u001b[0m\u001b[0mfigure\u001b[0m\u001b[0;34m,\u001b[0m \u001b[0mdpi\u001b[0m\u001b[0;34m=\u001b[0m\u001b[0mdpi\u001b[0m\u001b[0;34m)\u001b[0m\u001b[0;34m:\u001b[0m\u001b[0;34m\u001b[0m\u001b[0;34m\u001b[0m\u001b[0m\n\u001b[0;32m-> 2338\u001b[0;31m                     result = print_method(\n\u001b[0m\u001b[1;32m   2339\u001b[0m                         \u001b[0mfilename\u001b[0m\u001b[0;34m,\u001b[0m\u001b[0;34m\u001b[0m\u001b[0;34m\u001b[0m\u001b[0m\n\u001b[1;32m   2340\u001b[0m                         \u001b[0mfacecolor\u001b[0m\u001b[0;34m=\u001b[0m\u001b[0mfacecolor\u001b[0m\u001b[0;34m,\u001b[0m\u001b[0;34m\u001b[0m\u001b[0;34m\u001b[0m\u001b[0m\n",
      "\u001b[0;32m~/miniconda3/lib/python3.9/site-packages/matplotlib/backend_bases.py\u001b[0m in \u001b[0;36m<lambda>\u001b[0;34m(*args, **kwargs)\u001b[0m\n\u001b[1;32m   2202\u001b[0m                 \"bbox_inches_restore\"}\n\u001b[1;32m   2203\u001b[0m             \u001b[0mskip\u001b[0m \u001b[0;34m=\u001b[0m \u001b[0moptional_kws\u001b[0m \u001b[0;34m-\u001b[0m \u001b[0;34m{\u001b[0m\u001b[0;34m*\u001b[0m\u001b[0minspect\u001b[0m\u001b[0;34m.\u001b[0m\u001b[0msignature\u001b[0m\u001b[0;34m(\u001b[0m\u001b[0mmeth\u001b[0m\u001b[0;34m)\u001b[0m\u001b[0;34m.\u001b[0m\u001b[0mparameters\u001b[0m\u001b[0;34m}\u001b[0m\u001b[0;34m\u001b[0m\u001b[0;34m\u001b[0m\u001b[0m\n\u001b[0;32m-> 2204\u001b[0;31m             print_method = functools.wraps(meth)(lambda *args, **kwargs: meth(\n\u001b[0m\u001b[1;32m   2205\u001b[0m                 *args, **{k: v for k, v in kwargs.items() if k not in skip}))\n\u001b[1;32m   2206\u001b[0m         \u001b[0;32melse\u001b[0m\u001b[0;34m:\u001b[0m  \u001b[0;31m# Let third-parties do as they see fit.\u001b[0m\u001b[0;34m\u001b[0m\u001b[0;34m\u001b[0m\u001b[0m\n",
      "\u001b[0;32m~/miniconda3/lib/python3.9/site-packages/matplotlib/_api/deprecation.py\u001b[0m in \u001b[0;36mwrapper\u001b[0;34m(*inner_args, **inner_kwargs)\u001b[0m\n\u001b[1;32m    408\u001b[0m                          \u001b[0;32melse\u001b[0m \u001b[0mdeprecation_addendum\u001b[0m\u001b[0;34m,\u001b[0m\u001b[0;34m\u001b[0m\u001b[0;34m\u001b[0m\u001b[0m\n\u001b[1;32m    409\u001b[0m                 **kwargs)\n\u001b[0;32m--> 410\u001b[0;31m         \u001b[0;32mreturn\u001b[0m \u001b[0mfunc\u001b[0m\u001b[0;34m(\u001b[0m\u001b[0;34m*\u001b[0m\u001b[0minner_args\u001b[0m\u001b[0;34m,\u001b[0m \u001b[0;34m**\u001b[0m\u001b[0minner_kwargs\u001b[0m\u001b[0;34m)\u001b[0m\u001b[0;34m\u001b[0m\u001b[0;34m\u001b[0m\u001b[0m\n\u001b[0m\u001b[1;32m    411\u001b[0m \u001b[0;34m\u001b[0m\u001b[0m\n\u001b[1;32m    412\u001b[0m     \u001b[0mDECORATORS\u001b[0m\u001b[0;34m[\u001b[0m\u001b[0mwrapper\u001b[0m\u001b[0;34m]\u001b[0m \u001b[0;34m=\u001b[0m \u001b[0mdecorator\u001b[0m\u001b[0;34m\u001b[0m\u001b[0;34m\u001b[0m\u001b[0m\n",
      "\u001b[0;32m~/miniconda3/lib/python3.9/site-packages/matplotlib/backends/backend_agg.py\u001b[0m in \u001b[0;36mprint_png\u001b[0;34m(self, filename_or_obj, metadata, pil_kwargs, *args)\u001b[0m\n\u001b[1;32m    515\u001b[0m             \u001b[0;34m*\u001b[0m\u001b[0mmetadata\u001b[0m\u001b[0;34m*\u001b[0m\u001b[0;34m,\u001b[0m \u001b[0mincluding\u001b[0m \u001b[0mthe\u001b[0m \u001b[0mdefault\u001b[0m \u001b[0;34m'Software'\u001b[0m \u001b[0mkey\u001b[0m\u001b[0;34m.\u001b[0m\u001b[0;34m\u001b[0m\u001b[0;34m\u001b[0m\u001b[0m\n\u001b[1;32m    516\u001b[0m         \"\"\"\n\u001b[0;32m--> 517\u001b[0;31m         \u001b[0mself\u001b[0m\u001b[0;34m.\u001b[0m\u001b[0m_print_pil\u001b[0m\u001b[0;34m(\u001b[0m\u001b[0mfilename_or_obj\u001b[0m\u001b[0;34m,\u001b[0m \u001b[0;34m\"png\"\u001b[0m\u001b[0;34m,\u001b[0m \u001b[0mpil_kwargs\u001b[0m\u001b[0;34m,\u001b[0m \u001b[0mmetadata\u001b[0m\u001b[0;34m)\u001b[0m\u001b[0;34m\u001b[0m\u001b[0;34m\u001b[0m\u001b[0m\n\u001b[0m\u001b[1;32m    518\u001b[0m \u001b[0;34m\u001b[0m\u001b[0m\n\u001b[1;32m    519\u001b[0m     \u001b[0;32mdef\u001b[0m \u001b[0mprint_to_buffer\u001b[0m\u001b[0;34m(\u001b[0m\u001b[0mself\u001b[0m\u001b[0;34m)\u001b[0m\u001b[0;34m:\u001b[0m\u001b[0;34m\u001b[0m\u001b[0;34m\u001b[0m\u001b[0m\n",
      "\u001b[0;32m~/miniconda3/lib/python3.9/site-packages/matplotlib/backends/backend_agg.py\u001b[0m in \u001b[0;36m_print_pil\u001b[0;34m(self, filename_or_obj, fmt, pil_kwargs, metadata)\u001b[0m\n\u001b[1;32m    462\u001b[0m         \"\"\"\n\u001b[1;32m    463\u001b[0m         \u001b[0mFigureCanvasAgg\u001b[0m\u001b[0;34m.\u001b[0m\u001b[0mdraw\u001b[0m\u001b[0;34m(\u001b[0m\u001b[0mself\u001b[0m\u001b[0;34m)\u001b[0m\u001b[0;34m\u001b[0m\u001b[0;34m\u001b[0m\u001b[0m\n\u001b[0;32m--> 464\u001b[0;31m         mpl.image.imsave(\n\u001b[0m\u001b[1;32m    465\u001b[0m             \u001b[0mfilename_or_obj\u001b[0m\u001b[0;34m,\u001b[0m \u001b[0mself\u001b[0m\u001b[0;34m.\u001b[0m\u001b[0mbuffer_rgba\u001b[0m\u001b[0;34m(\u001b[0m\u001b[0;34m)\u001b[0m\u001b[0;34m,\u001b[0m \u001b[0mformat\u001b[0m\u001b[0;34m=\u001b[0m\u001b[0mfmt\u001b[0m\u001b[0;34m,\u001b[0m \u001b[0morigin\u001b[0m\u001b[0;34m=\u001b[0m\u001b[0;34m\"upper\"\u001b[0m\u001b[0;34m,\u001b[0m\u001b[0;34m\u001b[0m\u001b[0;34m\u001b[0m\u001b[0m\n\u001b[1;32m    466\u001b[0m             dpi=self.figure.dpi, metadata=metadata, pil_kwargs=pil_kwargs)\n",
      "\u001b[0;32m~/miniconda3/lib/python3.9/site-packages/matplotlib/image.py\u001b[0m in \u001b[0;36mimsave\u001b[0;34m(fname, arr, vmin, vmax, cmap, format, origin, dpi, metadata, pil_kwargs)\u001b[0m\n\u001b[1;32m   1662\u001b[0m         \u001b[0mpil_kwargs\u001b[0m\u001b[0;34m.\u001b[0m\u001b[0msetdefault\u001b[0m\u001b[0;34m(\u001b[0m\u001b[0;34m\"format\"\u001b[0m\u001b[0;34m,\u001b[0m \u001b[0mformat\u001b[0m\u001b[0;34m)\u001b[0m\u001b[0;34m\u001b[0m\u001b[0;34m\u001b[0m\u001b[0m\n\u001b[1;32m   1663\u001b[0m         \u001b[0mpil_kwargs\u001b[0m\u001b[0;34m.\u001b[0m\u001b[0msetdefault\u001b[0m\u001b[0;34m(\u001b[0m\u001b[0;34m\"dpi\"\u001b[0m\u001b[0;34m,\u001b[0m \u001b[0;34m(\u001b[0m\u001b[0mdpi\u001b[0m\u001b[0;34m,\u001b[0m \u001b[0mdpi\u001b[0m\u001b[0;34m)\u001b[0m\u001b[0;34m)\u001b[0m\u001b[0;34m\u001b[0m\u001b[0;34m\u001b[0m\u001b[0m\n\u001b[0;32m-> 1664\u001b[0;31m         \u001b[0mimage\u001b[0m\u001b[0;34m.\u001b[0m\u001b[0msave\u001b[0m\u001b[0;34m(\u001b[0m\u001b[0mfname\u001b[0m\u001b[0;34m,\u001b[0m \u001b[0;34m**\u001b[0m\u001b[0mpil_kwargs\u001b[0m\u001b[0;34m)\u001b[0m\u001b[0;34m\u001b[0m\u001b[0;34m\u001b[0m\u001b[0m\n\u001b[0m\u001b[1;32m   1665\u001b[0m \u001b[0;34m\u001b[0m\u001b[0m\n\u001b[1;32m   1666\u001b[0m \u001b[0;34m\u001b[0m\u001b[0m\n",
      "\u001b[0;32m~/miniconda3/lib/python3.9/site-packages/PIL/Image.py\u001b[0m in \u001b[0;36msave\u001b[0;34m(self, fp, format, **params)\u001b[0m\n\u001b[1;32m   2351\u001b[0m \u001b[0;34m\u001b[0m\u001b[0m\n\u001b[1;32m   2352\u001b[0m         \u001b[0;32mtry\u001b[0m\u001b[0;34m:\u001b[0m\u001b[0;34m\u001b[0m\u001b[0;34m\u001b[0m\u001b[0m\n\u001b[0;32m-> 2353\u001b[0;31m             \u001b[0msave_handler\u001b[0m\u001b[0;34m(\u001b[0m\u001b[0mself\u001b[0m\u001b[0;34m,\u001b[0m \u001b[0mfp\u001b[0m\u001b[0;34m,\u001b[0m \u001b[0mfilename\u001b[0m\u001b[0;34m)\u001b[0m\u001b[0;34m\u001b[0m\u001b[0;34m\u001b[0m\u001b[0m\n\u001b[0m\u001b[1;32m   2354\u001b[0m         \u001b[0;32mexcept\u001b[0m \u001b[0mException\u001b[0m\u001b[0;34m:\u001b[0m\u001b[0;34m\u001b[0m\u001b[0;34m\u001b[0m\u001b[0m\n\u001b[1;32m   2355\u001b[0m             \u001b[0;32mif\u001b[0m \u001b[0mopen_fp\u001b[0m\u001b[0;34m:\u001b[0m\u001b[0;34m\u001b[0m\u001b[0;34m\u001b[0m\u001b[0m\n",
      "\u001b[0;32m~/miniconda3/lib/python3.9/site-packages/PIL/PngImagePlugin.py\u001b[0m in \u001b[0;36m_save\u001b[0;34m(im, fp, filename, chunk, save_all)\u001b[0m\n\u001b[1;32m   1395\u001b[0m         \u001b[0m_write_multiple_frames\u001b[0m\u001b[0;34m(\u001b[0m\u001b[0mim\u001b[0m\u001b[0;34m,\u001b[0m \u001b[0mfp\u001b[0m\u001b[0;34m,\u001b[0m \u001b[0mchunk\u001b[0m\u001b[0;34m,\u001b[0m \u001b[0mrawmode\u001b[0m\u001b[0;34m,\u001b[0m \u001b[0mdefault_image\u001b[0m\u001b[0;34m,\u001b[0m \u001b[0mappend_images\u001b[0m\u001b[0;34m)\u001b[0m\u001b[0;34m\u001b[0m\u001b[0;34m\u001b[0m\u001b[0m\n\u001b[1;32m   1396\u001b[0m     \u001b[0;32melse\u001b[0m\u001b[0;34m:\u001b[0m\u001b[0;34m\u001b[0m\u001b[0;34m\u001b[0m\u001b[0m\n\u001b[0;32m-> 1397\u001b[0;31m         \u001b[0mImageFile\u001b[0m\u001b[0;34m.\u001b[0m\u001b[0m_save\u001b[0m\u001b[0;34m(\u001b[0m\u001b[0mim\u001b[0m\u001b[0;34m,\u001b[0m \u001b[0m_idat\u001b[0m\u001b[0;34m(\u001b[0m\u001b[0mfp\u001b[0m\u001b[0;34m,\u001b[0m \u001b[0mchunk\u001b[0m\u001b[0;34m)\u001b[0m\u001b[0;34m,\u001b[0m \u001b[0;34m[\u001b[0m\u001b[0;34m(\u001b[0m\u001b[0;34m\"zip\"\u001b[0m\u001b[0;34m,\u001b[0m \u001b[0;34m(\u001b[0m\u001b[0;36m0\u001b[0m\u001b[0;34m,\u001b[0m \u001b[0;36m0\u001b[0m\u001b[0;34m)\u001b[0m \u001b[0;34m+\u001b[0m \u001b[0mim\u001b[0m\u001b[0;34m.\u001b[0m\u001b[0msize\u001b[0m\u001b[0;34m,\u001b[0m \u001b[0;36m0\u001b[0m\u001b[0;34m,\u001b[0m \u001b[0mrawmode\u001b[0m\u001b[0;34m)\u001b[0m\u001b[0;34m]\u001b[0m\u001b[0;34m)\u001b[0m\u001b[0;34m\u001b[0m\u001b[0;34m\u001b[0m\u001b[0m\n\u001b[0m\u001b[1;32m   1398\u001b[0m \u001b[0;34m\u001b[0m\u001b[0m\n\u001b[1;32m   1399\u001b[0m     \u001b[0;32mif\u001b[0m \u001b[0minfo\u001b[0m\u001b[0;34m:\u001b[0m\u001b[0;34m\u001b[0m\u001b[0;34m\u001b[0m\u001b[0m\n",
      "\u001b[0;32m~/miniconda3/lib/python3.9/site-packages/PIL/ImageFile.py\u001b[0m in \u001b[0;36m_save\u001b[0;34m(im, fp, tile, bufsize)\u001b[0m\n\u001b[1;32m    505\u001b[0m         \u001b[0m_encode_tile\u001b[0m\u001b[0;34m(\u001b[0m\u001b[0mim\u001b[0m\u001b[0;34m,\u001b[0m \u001b[0mfp\u001b[0m\u001b[0;34m,\u001b[0m \u001b[0mtile\u001b[0m\u001b[0;34m,\u001b[0m \u001b[0mbufsize\u001b[0m\u001b[0;34m,\u001b[0m \u001b[0mfh\u001b[0m\u001b[0;34m)\u001b[0m\u001b[0;34m\u001b[0m\u001b[0;34m\u001b[0m\u001b[0m\n\u001b[1;32m    506\u001b[0m     \u001b[0;32mexcept\u001b[0m \u001b[0;34m(\u001b[0m\u001b[0mAttributeError\u001b[0m\u001b[0;34m,\u001b[0m \u001b[0mio\u001b[0m\u001b[0;34m.\u001b[0m\u001b[0mUnsupportedOperation\u001b[0m\u001b[0;34m)\u001b[0m \u001b[0;32mas\u001b[0m \u001b[0mexc\u001b[0m\u001b[0;34m:\u001b[0m\u001b[0;34m\u001b[0m\u001b[0;34m\u001b[0m\u001b[0m\n\u001b[0;32m--> 507\u001b[0;31m         \u001b[0m_encode_tile\u001b[0m\u001b[0;34m(\u001b[0m\u001b[0mim\u001b[0m\u001b[0;34m,\u001b[0m \u001b[0mfp\u001b[0m\u001b[0;34m,\u001b[0m \u001b[0mtile\u001b[0m\u001b[0;34m,\u001b[0m \u001b[0mbufsize\u001b[0m\u001b[0;34m,\u001b[0m \u001b[0;32mNone\u001b[0m\u001b[0;34m,\u001b[0m \u001b[0mexc\u001b[0m\u001b[0;34m)\u001b[0m\u001b[0;34m\u001b[0m\u001b[0;34m\u001b[0m\u001b[0m\n\u001b[0m\u001b[1;32m    508\u001b[0m     \u001b[0;32mif\u001b[0m \u001b[0mhasattr\u001b[0m\u001b[0;34m(\u001b[0m\u001b[0mfp\u001b[0m\u001b[0;34m,\u001b[0m \u001b[0;34m\"flush\"\u001b[0m\u001b[0;34m)\u001b[0m\u001b[0;34m:\u001b[0m\u001b[0;34m\u001b[0m\u001b[0;34m\u001b[0m\u001b[0m\n\u001b[1;32m    509\u001b[0m         \u001b[0mfp\u001b[0m\u001b[0;34m.\u001b[0m\u001b[0mflush\u001b[0m\u001b[0;34m(\u001b[0m\u001b[0;34m)\u001b[0m\u001b[0;34m\u001b[0m\u001b[0;34m\u001b[0m\u001b[0m\n",
      "\u001b[0;32m~/miniconda3/lib/python3.9/site-packages/PIL/ImageFile.py\u001b[0m in \u001b[0;36m_encode_tile\u001b[0;34m(im, fp, tile, bufsize, fh, exc)\u001b[0m\n\u001b[1;32m    524\u001b[0m                     \u001b[0;31m# compress to Python file-compatible object\u001b[0m\u001b[0;34m\u001b[0m\u001b[0;34m\u001b[0m\u001b[0m\n\u001b[1;32m    525\u001b[0m                     \u001b[0;32mwhile\u001b[0m \u001b[0;32mTrue\u001b[0m\u001b[0;34m:\u001b[0m\u001b[0;34m\u001b[0m\u001b[0;34m\u001b[0m\u001b[0m\n\u001b[0;32m--> 526\u001b[0;31m                         \u001b[0ml\u001b[0m\u001b[0;34m,\u001b[0m \u001b[0ms\u001b[0m\u001b[0;34m,\u001b[0m \u001b[0md\u001b[0m \u001b[0;34m=\u001b[0m \u001b[0mencoder\u001b[0m\u001b[0;34m.\u001b[0m\u001b[0mencode\u001b[0m\u001b[0;34m(\u001b[0m\u001b[0mbufsize\u001b[0m\u001b[0;34m)\u001b[0m\u001b[0;34m\u001b[0m\u001b[0;34m\u001b[0m\u001b[0m\n\u001b[0m\u001b[1;32m    527\u001b[0m                         \u001b[0mfp\u001b[0m\u001b[0;34m.\u001b[0m\u001b[0mwrite\u001b[0m\u001b[0;34m(\u001b[0m\u001b[0md\u001b[0m\u001b[0;34m)\u001b[0m\u001b[0;34m\u001b[0m\u001b[0;34m\u001b[0m\u001b[0m\n\u001b[1;32m    528\u001b[0m                         \u001b[0;32mif\u001b[0m \u001b[0ms\u001b[0m\u001b[0;34m:\u001b[0m\u001b[0;34m\u001b[0m\u001b[0;34m\u001b[0m\u001b[0m\n",
      "\u001b[0;31mKeyboardInterrupt\u001b[0m: "
     ]
    },
    {
     "data": {
      "image/png": "[encoded data removed]",
      "text/plain": [
       "<Figure size 700x500 with 1 Axes>"
      ]
     },
     "metadata": {},
     "output_type": "display_data"
    }
   ],
   "source": [
    "if plotDLS:\n",
    "        \n",
    "    fileNames = ['H2O_00mg_000rpm_00-00min_NA', 'H2O_00mg_000rpm_10-00min_ST', 'H2O_00mg_200rpm_10-00min_ST']\n",
    "    \n",
    "    plotLegend = ['MQW, Direct', 'MQW, Inserted', 'MQW, Sheared']\n",
    "\n",
    "    plotName = 'JJ1_01mg_BGr_NoJJ1_ST'\n",
    "    \n",
    "    plotTitle = 'JJmAb1 (1 mg/mL), Background, Steel'\n",
    "\n",
    "    print('Plotting and saving plot (saved as .PDF and .PNG files): \\n')\n",
    "\n",
    "    print(plotName)\n",
    "\n",
    "    # Set parameter lists containing plotting parameters\n",
    "    # param = [autoPlot, plotIntensity, plotAverage, plotNumberOfExp, plotFileName, \n",
    "    #          plotTitle, plotLegend, colors, cmap, font, showTitle]\n",
    "    param = [0, 0, 1, 0, plotName, plotTitle, plotLegend, [0], cmap, font, showTitle]\n",
    "    \n",
    "    # Call plotting function\n",
    "    jp.plotDLS(corrData, intData, fileNames, param)"
   ]
  },
  {
   "cell_type": "markdown",
   "id": "89a35469",
   "metadata": {},
   "source": [
    "#### MDI ↓ "
   ]
  },
  {
   "cell_type": "code",
   "execution_count": null,
   "id": "e87ef1b7",
   "metadata": {},
   "outputs": [],
   "source": [
    "if plotMDI:\n",
    "    \n",
    "    fileNames = ['H2O_00mg_000rpm_00-00min_NA', 'H2O_00mg_200rpm_10-00min_PM',\n",
    "                 'JJ1_01mg_000rpm_00-00min_NA', 'JJ1_01mg_000rpm_10-00min_PM', 'JJ1_01mg_200rpm_10-00min_PM']\n",
    "    \n",
    "    expNames = ['MQW, Direct', 'MQW, Sheared', \n",
    "                  'JJ1, Direct', 'JJ1, Inserted', 'JJ1, Sheared']\n",
    "    \n",
    "    plotName = 'JJ1_01mg_BGr_PM'\n",
    "\n",
    "    print('Plotting and saving plots (saved as .PDF and .PNG files): \\n')\n",
    "\n",
    "    plotTitle = 'JJmAb1 (1 mg/mL), Background, PMMA'\n",
    "\n",
    "    print(plotName)\n",
    "\n",
    "    # Set parameter lists containing plotting parameters\n",
    "    # param = [autoPlot, rmFirstBin, logPlot, plotAverage, plotLimits, expNames, plotFileName, \n",
    "    #          plotTitle, colors, cmap, font, showTitle]\n",
    "    param = [0, 0, 0, 1, [], expNames, plotName, plotTitle, [0], cmap, font, showTitle]\n",
    "    param2 = [0, 1, 0, 1, [], expNames, plotName, plotTitle, [0], cmap, font, showTitle]\n",
    "    paramLog = [0, 0, 1, 1, [], expNames, plotName, plotTitle, [0], cmap, font, showTitle]\n",
    "\n",
    "    # Call plotting function\n",
    "    jp.plotMDI(countData, fileNames, param)\n",
    "    jp.plotMDI(countData, fileNames, param2)\n",
    "    jp.plotMDI(countData, fileNames, paramLog)\n"
   ]
  },
  {
   "cell_type": "code",
   "execution_count": null,
   "id": "290865f2",
   "metadata": {},
   "outputs": [],
   "source": [
    "if plotMDI:\n",
    "    \n",
    "    fileNames = ['H2O_00mg_000rpm_00-00min_NA', 'H2O_00mg_200rpm_10-00min_PM']\n",
    "    \n",
    "    expNames = ['MQW, Direct', 'MQW, Sheared']\n",
    "    \n",
    "    plotName = 'JJ1_01mg_BGr_NoJJ1_PM'\n",
    "\n",
    "    print('Plotting and saving plots (saved as .PDF and .PNG files): \\n')\n",
    "\n",
    "    plotTitle = 'JJmAb1 (1 mg/mL), Background, PMMA'\n",
    "\n",
    "    print(plotName)\n",
    "\n",
    "    # Set parameter lists containing plotting parameters\n",
    "    # param = [autoPlot, rmFirstBin, logPlot, plotAverage, plotLimits, expNames, plotFileName, \n",
    "    #          plotTitle, colors, cmap, font, showTitle]\n",
    "    param = [0, 0, 0, 1, [], expNames, plotName, plotTitle, [0], cmap, font, showTitle]\n",
    "    param2 = [0, 1, 0, 1, [], expNames, plotName, plotTitle, [0], cmap, font, showTitle]\n",
    "    paramLog = [0, 0, 1, 1, [], expNames, plotName, plotTitle, [0], cmap, font, showTitle]\n",
    "\n",
    "    # Call plotting function\n",
    "    jp.plotMDI(countData, fileNames, param)\n",
    "    jp.plotMDI(countData, fileNames, param2)\n",
    "    jp.plotMDI(countData, fileNames, paramLog)\n"
   ]
  },
  {
   "cell_type": "code",
   "execution_count": null,
   "id": "935153e5",
   "metadata": {},
   "outputs": [],
   "source": [
    "if plotMDI:\n",
    "    \n",
    "    fileNames = ['H2O_00mg_000rpm_00-00min_NA', 'H2O_00mg_200rpm_10-00min_ST',\n",
    "                 'JJ1_01mg_000rpm_00-00min_NA', 'JJ1_01mg_000rpm_10-00min_ST', 'JJ1_01mg_200rpm_10-00min_ST']\n",
    "    \n",
    "    expNames = ['MQW, Direct', 'MQW, Sheared', \n",
    "                  'JJ1, Direct', 'JJ1, Inserted', 'JJ1, Sheared']\n",
    "    \n",
    "    plotName = 'JJ1_01mg_BGr_ST'\n",
    "\n",
    "    print('Plotting and saving plots (saved as .PDF and .PNG files): \\n')\n",
    "\n",
    "    plotTitle = 'JJmAb1 (1 mg/mL), Background, Steel'\n",
    "\n",
    "    print(plotName)\n",
    "\n",
    "    # Set parameter lists containing plotting parameters\n",
    "    # param = [autoPlot, rmFirstBin, logPlot, plotAverage, plotLimits, expNames, plotFileName, \n",
    "    #          plotTitle, colors, cmap, font, showTitle]\n",
    "    param = [0, 0, 0, 1, [], expNames, plotName, plotTitle, [0], cmap, font, showTitle]\n",
    "    param2 = [0, 1, 0, 1, [], expNames, plotName, plotTitle, [0], cmap, font, showTitle]\n",
    "    paramLog = [0, 0, 1, 1, [], expNames, plotName, plotTitle, [0], cmap, font, showTitle]\n",
    "\n",
    "    # Call plotting function\n",
    "    jp.plotMDI(countData, fileNames, param)\n",
    "    jp.plotMDI(countData, fileNames, param2)\n",
    "    jp.plotMDI(countData, fileNames, paramLog)\n"
   ]
  },
  {
   "cell_type": "code",
   "execution_count": null,
   "id": "515986b4",
   "metadata": {},
   "outputs": [],
   "source": [
    "if plotMDI:\n",
    "    \n",
    "    fileNames = ['H2O_00mg_000rpm_00-00min_NA', 'H2O_00mg_200rpm_10-00min_ST']\n",
    "    \n",
    "    expNames = ['MQW, Direct', 'MQW, Sheared']\n",
    "    \n",
    "    plotName = 'JJ1_01mg_BGr_NoJJ1_ST'\n",
    "\n",
    "    print('Plotting and saving plots (saved as .PDF and .PNG files): \\n')\n",
    "\n",
    "    plotTitle = 'JJmAb1 (1 mg/mL), Background, Steel'\n",
    "\n",
    "    print(plotName)\n",
    "\n",
    "    # Set parameter lists containing plotting parameters\n",
    "    # param = [autoPlot, rmFirstBin, logPlot, plotAverage, plotLimits, expNames, plotFileName, \n",
    "    #          plotTitle, colors, cmap, font, showTitle]\n",
    "    param = [0, 0, 0, 1, [], expNames, plotName, plotTitle, [0], cmap, font, showTitle]\n",
    "    param2 = [0, 1, 0, 1, [], expNames, plotName, plotTitle, [0], cmap, font, showTitle]\n",
    "    paramLog = [0, 0, 1, 1, [], expNames, plotName, plotTitle, [0], cmap, font, showTitle]\n",
    "\n",
    "    # Call plotting function\n",
    "    jp.plotMDI(countData, fileNames, param)\n",
    "    jp.plotMDI(countData, fileNames, param2)\n",
    "    jp.plotMDI(countData, fileNames, paramLog)\n"
   ]
  },
  {
   "cell_type": "markdown",
   "id": "18e88174",
   "metadata": {},
   "source": [
    "### Standard Conditions"
   ]
  },
  {
   "cell_type": "markdown",
   "id": "ae9196c8",
   "metadata": {},
   "source": [
    "#### DLS ↓ "
   ]
  },
  {
   "cell_type": "code",
   "execution_count": null,
   "id": "59a21e10",
   "metadata": {},
   "outputs": [],
   "source": [
    "if plotDLS:\n",
    "    \n",
    "    fileNames = ['JJ1_01mg_200rpm_10-00min_PM', 'JJ1_01mg_200rpm_10-00min_ST', 'JJ1_01mg_000rpm_00-00min_NA']\n",
    "    \n",
    "    plotLegend = ['PMMA, sheared', 'Steel, sheared', 'Unsheared']\n",
    "\n",
    "    plotName = 'JJ1_01mg_Mat'\n",
    "    \n",
    "    plotTitle = 'JJmAb1 (1 mg/mL), Materials'\n",
    "\n",
    "    print('Plotting and saving plot (saved as .PDF and .PNG files): \\n')\n",
    "\n",
    "    print(plotName)\n",
    "\n",
    "    # Set parameter lists containing plotting parameters\n",
    "    # param = [autoPlot, plotIntensity, plotAverage, plotNumberOfExp, plotFileName, \n",
    "    #          plotTitle, plotLegend, colors, cmap, font, showTitle]\n",
    "    param = [0, 1, 0, 0, plotName, plotTitle, plotLegend, [0], cmap, font, showTitle]\n",
    "    \n",
    "    # Call plotting function\n",
    "    jp.plotDLS(corrData, intData, fileNames, param)"
   ]
  },
  {
   "cell_type": "markdown",
   "id": "937d7098",
   "metadata": {},
   "source": [
    "#### MDI ↓ "
   ]
  },
  {
   "cell_type": "code",
   "execution_count": null,
   "id": "a9c19de8",
   "metadata": {},
   "outputs": [],
   "source": [
    "if plotMDI:\n",
    "    \n",
    "    fileNames = ['JJ1_01mg_200rpm_10-00min_PM', 'JJ1_01mg_200rpm_10-00min_ST', 'JJ1_01mg_000rpm_00-00min_NA']\n",
    "    \n",
    "    expNames = ['PMMA, sheared', 'Steel, sheared', 'Unsheared']\n",
    "    \n",
    "    plotName = 'JJ1_01mg_Mat'\n",
    "\n",
    "    print('Plotting and saving plots (saved as .PDF and .PNG files): \\n')\n",
    "\n",
    "    plotTitle = 'JJmAb1 (1 mg/mL), Materials'\n",
    "\n",
    "    print(plotName)\n",
    "\n",
    "    # Set parameter lists containing plotting parameters\n",
    "    # param = [autoPlot, rmFirstBin, logPlot, plotAverage, plotLimits, expNames, plotFileName, \n",
    "    #          plotTitle, colors, cmap, font, showTitle]\n",
    "    param = [0, 0, 0, 1, [], expNames, plotName, plotTitle, [0], cmap, font, showTitle]\n",
    "    param2 = [0, 1, 0, 1, [], expNames, plotName, plotTitle, [0], cmap, font, showTitle]\n",
    "    paramLog = [0, 0, 1, 1, [], expNames, plotName, plotTitle, [0], cmap, font, showTitle]\n",
    "\n",
    "    # Call plotting function\n",
    "    jp.plotMDI(countData, fileNames, param)\n",
    "    jp.plotMDI(countData, fileNames, param2)\n",
    "    jp.plotMDI(countData, fileNames, paramLog)\n"
   ]
  },
  {
   "cell_type": "markdown",
   "id": "d60298d3",
   "metadata": {},
   "source": [
    "### Protein Type"
   ]
  },
  {
   "cell_type": "markdown",
   "id": "96eb1ac7",
   "metadata": {},
   "source": [
    "#### DLS ↓ "
   ]
  },
  {
   "cell_type": "code",
   "execution_count": null,
   "id": "eeba118d",
   "metadata": {},
   "outputs": [],
   "source": [
    "if plotDLS:\n",
    "\n",
    "    concentrations = ['01mg']\n",
    "    proteins = ['JJ1', 'JJ2', 'JJ3', 'JJ4']\n",
    "    materials = ['PM', 'ST']\n",
    "    \n",
    "    plotLegend = ['JJ1 sheared', 'JJ2 sheared', 'JJ3 sheared', 'JJ4 sheared', \n",
    "                  'JJ1 unsheared', 'JJ2 unsheared', 'JJ3 unsheared', 'JJ4 unsheared']\n",
    "\n",
    "    fileNum = len(proteins)*2\n",
    "    fileNames = [0] * fileNum\n",
    "\n",
    "    print('Plotting and saving plots (saved as .PDF and .PNG files): \\n')\n",
    "    \n",
    "    for conc in concentrations:\n",
    "        \n",
    "        baseName = 'JJn_' + conc + '_ProtType'\n",
    "        \n",
    "        for mat in materials:\n",
    "\n",
    "            plotName = baseName + '_' + mat\n",
    "\n",
    "            for i in range(fileNum):\n",
    "                                    \n",
    "                if i < fileNum/2: \n",
    "                    fileNames[i] = proteins[i] + '_' + conc + '_200rpm_10-00min_' + mat\n",
    "                else:\n",
    "                    fileNames[i] = proteins[i-4] + '_' + conc + '_000rpm_00-00min_NA'\n",
    "\n",
    "                    \n",
    "            if mat == 'PM':   \n",
    "                if conc == '01mg':\n",
    "                    plotTitle = 'Protein Types (1 mg/mL), PMMA'\n",
    "                else: \n",
    "                    plotTitle = 'Protein Types, PMMA'    \n",
    "            else:\n",
    "                if conc == '01mg':\n",
    "                    plotTitle = 'Protein Types (1 mg/mL), Steel'\n",
    "                else: \n",
    "                    plotTitle = 'Protein Types, Steel'  \n",
    "\n",
    "            print(plotName)\n",
    "\n",
    "            # Set parameter lists containing plotting parameters\n",
    "            # param = [autoPlot, plotIntensity, plotAverage, plotNumberOfExp, plotFileName, \n",
    "            #          plotTitle, plotLegend, colors, cmap, font, showTitle]\n",
    "            param = [0, 0, 1, 0, plotName, plotTitle, plotLegend, [0], cmap, font, showTitle]\n",
    "\n",
    "            # Call plotting function\n",
    "            jp.plotDLS(corrData, intData, fileNames, param)"
   ]
  },
  {
   "cell_type": "markdown",
   "id": "91cae046",
   "metadata": {},
   "source": [
    "#### MDI ↓ "
   ]
  },
  {
   "cell_type": "code",
   "execution_count": null,
   "id": "b188db9d",
   "metadata": {},
   "outputs": [],
   "source": [
    "if plotMDI:\n",
    "\n",
    "    concentrations = ['01mg']\n",
    "    proteins = ['JJ1', 'JJ2', 'JJ3', 'JJ4']\n",
    "    materials = ['PM', 'ST']\n",
    "    \n",
    "    expNames = ('JJ1 sheared', 'JJ2 sheared', 'JJ3 sheared', 'JJ4 sheared')\n",
    "\n",
    "    fileNum = len(proteins)\n",
    "    fileNames = [0] * fileNum\n",
    "\n",
    "    print('Plotting and saving plots (saved as .PDF and .PNG files): \\n')\n",
    "    \n",
    "    for conc in concentrations:\n",
    "        \n",
    "        baseName = 'JJn_' + conc + '_ProtType'\n",
    "        \n",
    "        for mat in materials:\n",
    "\n",
    "            plotName = baseName + '_' + mat\n",
    "\n",
    "            for i in range(fileNum):\n",
    "                                    \n",
    "                fileNames[i] = proteins[i] + '_' + conc + '_200rpm_10-00min_' + mat\n",
    "                    \n",
    "            if mat == 'PM':   \n",
    "                if conc == '01mg':\n",
    "                    plotTitle = 'Protein Types (1 mg/mL), PMMA'\n",
    "                else: \n",
    "                    plotTitle = 'Protein Types, PMMA'    \n",
    "            else:\n",
    "                if conc == '01mg':\n",
    "                    plotTitle = 'Protein Types (1 mg/mL), Steel'\n",
    "                else: \n",
    "                    plotTitle = 'Protein Types, Steel'  \n",
    "\n",
    "            print(plotName)\n",
    "\n",
    "            # Set parameter lists containing plotting parameters\n",
    "            # param = [autoPlot, rmFirstBin, logPlot, plotAverage, plotLimits, expNames, plotFileName, \n",
    "            #          plotTitle, colors, cmap, font, showTitle]\n",
    "            param = [0, 0, 0, 1, 0, expNames, plotName, plotTitle, [0], cmap, font, showTitle]\n",
    "            param2 = [0, 1, 0, 1, 0, expNames, plotName, plotTitle, [0], cmap, font, showTitle]\n",
    "            paramLog = [0, 0, 1, 1, [10, 1e8], expNames, plotName, plotTitle, [0], cmap, font, showTitle]\n",
    "\n",
    "            # Call plotting function\n",
    "            jp.plotMDI(countData, fileNames, param)\n",
    "            jp.plotMDI(countData, fileNames, param2)\n",
    "            jp.plotMDI(countData, fileNames, paramLog)"
   ]
  },
  {
   "cell_type": "markdown",
   "id": "6ef93f6f",
   "metadata": {},
   "source": [
    "### Surfactant Types"
   ]
  },
  {
   "cell_type": "markdown",
   "id": "100b9210",
   "metadata": {},
   "source": [
    "#### DLS ↓ "
   ]
  },
  {
   "cell_type": "code",
   "execution_count": null,
   "id": "2a8ffbb7",
   "metadata": {
    "scrolled": false
   },
   "outputs": [],
   "source": [
    "if plotDLS:\n",
    "    \n",
    "    concentrations = ['010ug', '050ug', '100ug', '250ug', '500ug']\n",
    "    materials = ['PM', 'ST']\n",
    "    surfactants = ['PS2', 'PS8', 'PO1']\n",
    "\n",
    "    plotLegend = ['Sheared', 'Sheared PS20', 'Sheared PS80', 'Sheared PX188', 'Unsheared']\n",
    "\n",
    "    baseName = 'JJ1_SurfTypes'\n",
    "    baseFile = 'JJ1_01mg'\n",
    "\n",
    "    fileNum = len(surfactants) + 2\n",
    "    fileNames = [0] * fileNum\n",
    "\n",
    "    print('Plotting and saving plots (saved as .PDF and .PNG files): \\n')\n",
    "\n",
    "    for conc in concentrations:\n",
    "        for mat in materials:\n",
    "\n",
    "            # Concentration in mg/mL\n",
    "            concFloat = float(conc[:3]) / 1000\n",
    "\n",
    "            plotName = baseName + '_' + conc + '_' + mat\n",
    "\n",
    "            for i in range(fileNum):\n",
    "                if i == 0:\n",
    "                    fileNames[i] = baseFile + '_200rpm_10-00min_' + mat\n",
    "                elif i == (fileNum-1):\n",
    "                    fileNames[i] = baseFile + '_000rpm_10-00min_' + mat\n",
    "                else: \n",
    "                    fileNames[i] = baseFile + '_' + surfactants[i-1] + '_' + conc + '_200rpm_10-00min_' + mat\n",
    "\n",
    "            if mat == 'PM':\n",
    "                if font == 'LaTeX':\n",
    "                    plotTitle = 'Surfactant Types ({}\\%, {} mg/mL), PMMA'.format(concFloat/10, concFloat)\n",
    "                else:\n",
    "                    plotTitle = 'Surfactant Types ({}%, {} mg/mL), PMMA'.format(concFloat/10, concFloat)\n",
    "            elif mat == 'PA':\n",
    "                if font == 'LaTeX':\n",
    "                    plotTitle = 'Surfactant Types ({}\\%, {} mg/mL), PMMA + Air'.format(concFloat/10, concFloat)\n",
    "                else:\n",
    "                    plotTitle = 'Surfactant Types ({}%, {} mg/mL), PMMA + Air'.format(concFloat/10, concFloat)\n",
    "            else:\n",
    "                if font == 'LaTeX':\n",
    "                    plotTitle = 'Surfactant Types ({}\\%, {} mg/mL), Steel'.format(concFloat/10, concFloat)\n",
    "                else:\n",
    "                    plotTitle = 'Surfactant Types ({}%, {} mg/mL), Steel'.format(concFloat/10, concFloat)\n",
    "\n",
    "            print(plotName)\n",
    "\n",
    "            # Set parameter lists containing plotting parameters\n",
    "            # param = [autoPlot, plotIntensity, plotAverage, plotNumberOfExp, plotFileName, \n",
    "            #          plotTitle, plotLegend, colors, cmap, font, showTitle]\n",
    "            param = [0, 0, 1, 0, plotName, plotTitle, plotLegend, [0], cmap, font, showTitle]\n",
    "\n",
    "            # Call plotting function\n",
    "            jp.plotDLS(corrData, intData, fileNames, param)\n"
   ]
  },
  {
   "cell_type": "markdown",
   "id": "d0942f82",
   "metadata": {},
   "source": [
    "#### MDI ↓ "
   ]
  },
  {
   "cell_type": "code",
   "execution_count": null,
   "id": "454f01d6",
   "metadata": {},
   "outputs": [],
   "source": [
    "if plotMDI:\n",
    "    \n",
    "    concentrations = ['010ug', '050ug', '100ug', '250ug', '500ug']\n",
    "    materials = ['PM', 'ST']\n",
    "    surfactants = ['PS2', 'PS8', 'PO1']\n",
    "    \n",
    "    expNames = ('Sheared', 'Sheared PS20', 'Sheared PS80', 'Sheared PX188', 'Unsheared')\n",
    "\n",
    "\n",
    "    baseName = 'JJ1_SurfTypes'\n",
    "    baseFile = 'JJ1_01mg'\n",
    "\n",
    "    fileNum = len(surfactants) + 2\n",
    "    fileNames = [0] * fileNum\n",
    "\n",
    "    print('Plotting and saving plots (saved as .PDF and .PNG files): \\n')\n",
    "\n",
    "    for conc in concentrations:\n",
    "        for mat in materials:\n",
    "\n",
    "            # Concentration in mg/mL\n",
    "            concFloat = float(conc[:3]) / 1000\n",
    "\n",
    "            plotName = baseName + '_' + conc + '_' + mat\n",
    "\n",
    "            for i in range(fileNum):\n",
    "                if i == 0:\n",
    "                    fileNames[i] = baseFile + '_200rpm_10-00min_' + mat\n",
    "                elif i == (fileNum-1):\n",
    "                    fileNames[i] = baseFile + '_000rpm_10-00min_PM'\n",
    "                else: \n",
    "                    fileNames[i] = baseFile + '_' + surfactants[i-1] + '_' + conc + '_200rpm_10-00min_' + mat\n",
    "\n",
    "            if mat == 'PM':\n",
    "                if font == 'LaTeX':\n",
    "                    plotTitle = 'Surfactant Types ({}\\%, {} mg/mL), PMMA'.format(concFloat/10, concFloat)\n",
    "                else:\n",
    "                    plotTitle = 'Surfactant Types ({}%, {} mg/mL), PMMA'.format(concFloat/10, concFloat)\n",
    "            elif mat == 'PA':\n",
    "                if font == 'LaTeX':\n",
    "                    plotTitle = 'Surfactant Types ({}\\%, {} mg/mL), PMMA + Air'.format(concFloat/10, concFloat)\n",
    "                else:\n",
    "                    plotTitle = 'Surfactant Types ({}%, {} mg/mL), PMMA + Air'.format(concFloat/10, concFloat)\n",
    "            else:\n",
    "                if font == 'LaTeX':\n",
    "                    plotTitle = 'Surfactant Types ({}\\%, {} mg/mL), Steel'.format(concFloat/10, concFloat)\n",
    "                else:\n",
    "                    plotTitle = 'Surfactant Types ({}%, {} mg/mL), Steel'.format(concFloat/10, concFloat)\n",
    "\n",
    "            print(plotName)\n",
    "\n",
    "            # Set parameter lists containing plotting parameters\n",
    "            # param = [autoPlot, rmFirstBin, logPlot, plotAverage, plotLimits, expNames, plotFileName, \n",
    "            #          plotTitle, colors, cmap, font, showTitle]\n",
    "            param = [0, 0, 0, 1, 0, expNames, plotName, plotTitle, [0], cmap, font, showTitle]\n",
    "            param2 = [0, 1, 0, 1, 0, expNames, plotName, plotTitle, [0], cmap, font, showTitle]\n",
    "            paramLog = [0, 0, 1, 1, 0, expNames, plotName, plotTitle, [0], cmap, font, showTitle]\n",
    "\n",
    "            # Call plotting function\n",
    "            jp.plotMDI(countData, fileNames, param)\n",
    "            jp.plotMDI(countData, fileNames, param2)\n",
    "            jp.plotMDI(countData, fileNames, paramLog)"
   ]
  },
  {
   "cell_type": "markdown",
   "id": "ec1e4712",
   "metadata": {},
   "source": [
    "### Surfactant Concentrations"
   ]
  },
  {
   "cell_type": "markdown",
   "id": "0ec2d825",
   "metadata": {},
   "source": [
    "#### DLS ↓ "
   ]
  },
  {
   "cell_type": "code",
   "execution_count": null,
   "id": "ecd263b8",
   "metadata": {
    "scrolled": false
   },
   "outputs": [],
   "source": [
    "if plotDLS:\n",
    "\n",
    "    concentrations = ['010ug', '050ug', '100ug', '250ug']\n",
    "    materials = ['PM', 'ST']\n",
    "    surfactants = ['PS2', 'PS8', 'PO1']\n",
    "\n",
    "    plotLegend = ['Sheared', '0.01 mg/mL', '0.05 mg/mL', '0.10 mg/mL', '0.25 mg/mL', 'Unsheared']\n",
    "\n",
    "    baseName = 'JJ1_SurfConc'\n",
    "    baseFile = 'JJ1_01mg'\n",
    "\n",
    "    fileNum = len(concentrations)+2\n",
    "    fileNames = [0] * fileNum\n",
    "\n",
    "    print('Plotting and saving plots (saved as .PDF and .PNG files): \\n')\n",
    "\n",
    "    for surf in surfactants:\n",
    "        for mat in materials:\n",
    "\n",
    "            plotName = baseName + '_' + surf + '_' + mat\n",
    "\n",
    "            for i in range(fileNum):\n",
    "                if i == 0:\n",
    "                    fileNames[i] = baseFile + '_200rpm_10-00min_' + mat\n",
    "                elif i == (fileNum-1):\n",
    "                    fileNames[i] = baseFile + '_000rpm_10-00min_' + mat\n",
    "                else: \n",
    "                    fileNames[i] = baseFile + '_' + surf + '_' + concentrations[i-1] + '_200rpm_10-00min_' + mat\n",
    "\n",
    "            if mat == 'PM':   \n",
    "                if surf == 'PS2':\n",
    "                    plotTitle = 'Polysorbate 20 Concentrations, PMMA'\n",
    "                elif surf == 'PS8': \n",
    "                    plotTitle = 'Polysorbate 80 Concentrations, PMMA'\n",
    "                elif surf == 'PO1':\n",
    "                    plotTitle = 'Poloxamer 188 Concentrations, PMMA'\n",
    "            elif mat == 'PA':\n",
    "                if surf == 'PS2':\n",
    "                    plotTitle = 'Polysorbate 20 Concentrations, PMMA + Air'\n",
    "                elif surf == 'PS8': \n",
    "                    plotTitle = 'Polysorbate 80 Concentrations, PMMA + Air'\n",
    "                elif surf == 'PO1':\n",
    "                    plotTitle = 'Poloxamer 188 Concentrations, PMMA + Air'           \n",
    "            else:\n",
    "                if surf == 'PS2':\n",
    "                    plotTitle = 'Polysorbate 20 Concentrations, Steel'\n",
    "                elif surf == 'PS8': \n",
    "                    plotTitle = 'Polysorbate 80 Concentrations, Steel'\n",
    "                elif surf == 'PO1':\n",
    "                    plotTitle = 'Poloxamer 188 Concentrations, Steel'\n",
    "\n",
    "            print(plotName)\n",
    "\n",
    "            # Set parameter lists containing plotting parameters\n",
    "            # param = [autoPlot, plotIntensity, plotAverage, plotNumberOfExp, plotFileName, \n",
    "            #          plotTitle, plotLegend, colors, cmap, font, showTitle]\n",
    "            param = [0, 0, 1, 0, plotName, plotTitle, plotLegend, [0], cmap, font, showTitle]\n",
    "\n",
    "            # Call plotting function\n",
    "            jp.plotDLS(corrData, intData, fileNames, param)"
   ]
  },
  {
   "cell_type": "markdown",
   "id": "0c86538b",
   "metadata": {},
   "source": [
    "#### MDI ↓ "
   ]
  },
  {
   "cell_type": "code",
   "execution_count": null,
   "id": "7a5865cd",
   "metadata": {},
   "outputs": [],
   "source": [
    "if plotMDI:\n",
    "\n",
    "    concentrations = ['010ug', '050ug', '100ug', '250ug']\n",
    "    materials = ['PM', 'ST']\n",
    "    surfactants = ['PS2', 'PS8', 'PO1']\n",
    "\n",
    "    expNames = ('Sheared', '0.01 mg/mL', '0.05 mg/mL', '0.10 mg/mL', '0.25 mg/mL', 'Unsheared')\n",
    "\n",
    "    baseName = 'JJ1_SurfConc'\n",
    "    baseFile = 'JJ1_01mg'\n",
    "\n",
    "    fileNum = len(concentrations)+2\n",
    "    fileNames = [0] * fileNum\n",
    "\n",
    "    print('Plotting and saving plots (saved as .PDF and .PNG files): \\n')\n",
    "\n",
    "    for surf in surfactants:\n",
    "        for mat in materials:\n",
    "\n",
    "            plotName = baseName + '_' + surf + '_' + mat\n",
    "\n",
    "            for i in range(fileNum):\n",
    "                if i == 0:\n",
    "                    fileNames[i] = baseFile + '_200rpm_10-00min_' + mat\n",
    "                elif i == (fileNum-1):\n",
    "                    fileNames[i] = baseFile + '_000rpm_10-00min_PM'\n",
    "                else: \n",
    "                    fileNames[i] = baseFile + '_' + surf + '_' + concentrations[i-1] + '_200rpm_10-00min_' + mat\n",
    "                    \n",
    "            if mat == 'PM':   \n",
    "                if surf == 'PS2':\n",
    "                    plotTitle = 'Polysorbate 20 Concentrations, PMMA'\n",
    "                elif surf == 'PS8': \n",
    "                    plotTitle = 'Polysorbate 80 Concentrations, PMMA'\n",
    "                elif surf == 'PO1':\n",
    "                    plotTitle = 'Poloxamer 188 Concentrations, PMMA'\n",
    "            elif mat == 'PA':\n",
    "                if surf == 'PS2':\n",
    "                    plotTitle = 'Polysorbate 20 Concentrations, PMMA + Air'\n",
    "                elif surf == 'PS8': \n",
    "                    plotTitle = 'Polysorbate 80 Concentrations, PMMA + Air'\n",
    "                elif surf == 'PO1':\n",
    "                    plotTitle = 'Poloxamer 188 Concentrations, PMMA + Air'           \n",
    "            else:\n",
    "                if surf == 'PS2':\n",
    "                    plotTitle = 'Polysorbate 20 Concentrations, Steel'\n",
    "                elif surf == 'PS8': \n",
    "                    plotTitle = 'Polysorbate 80 Concentrations, Steel'\n",
    "                elif surf == 'PO1':\n",
    "                    plotTitle = 'Poloxamer 188 Concentrations, Steel'\n",
    "\n",
    "            print(plotName)\n",
    "\n",
    "            # Set parameter lists containing plotting parameters\n",
    "            # param = [autoPlot, rmFirstBin, logPlot, plotAverage, plotLimits, expNames, plotFileName, \n",
    "            #          plotTitle, colors, cmap, font, showTitle]\n",
    "            param = [0, 0, 0, 1, 0, expNames, plotName, plotTitle, [0], cmap, font, showTitle]\n",
    "            param2 = [0, 1, 0, 1, 0, expNames, plotName, plotTitle, [0], cmap, font, showTitle]\n",
    "            paramLog = [0, 0, 1, 1, 0, expNames, plotName, plotTitle, [0], cmap, font, showTitle]\n",
    "\n",
    "            # Call plotting function\n",
    "            jp.plotMDI(countData, fileNames, param)\n",
    "            jp.plotMDI(countData, fileNames, param2)\n",
    "            jp.plotMDI(countData, fileNames, paramLog)"
   ]
  },
  {
   "cell_type": "markdown",
   "id": "122b9e6a",
   "metadata": {},
   "source": [
    "### High Protein Concentrations"
   ]
  },
  {
   "cell_type": "markdown",
   "id": "6b1129f0",
   "metadata": {},
   "source": [
    "#### DLS ↓ "
   ]
  },
  {
   "cell_type": "code",
   "execution_count": null,
   "id": "13c2ba5b",
   "metadata": {
    "scrolled": true
   },
   "outputs": [],
   "source": [
    "if plotDLS:\n",
    "\n",
    "    concentrations = ['01mg', '10mg', '50mg']\n",
    "    proteins = ['JJ1']\n",
    "    materials = ['PM', 'ST']\n",
    "    \n",
    "    plotLegend = ['1 mg/mL, sheared', '10 mg/mL, sheared', '50 mg/mL, sheared', 'Unsheared']\n",
    "\n",
    "    fileNum = len(concentrations)+1\n",
    "    fileNames = [0] * fileNum\n",
    "\n",
    "    print('Plotting and saving plots (saved as .PDF and .PNG files): \\n')\n",
    "\n",
    "    for prot in proteins:\n",
    "        \n",
    "        baseName = prot + '_ProtConc'\n",
    "        baseFile = prot\n",
    "        \n",
    "        for mat in materials:\n",
    "\n",
    "            plotName = baseName + '_' + mat\n",
    "\n",
    "            for i in range(fileNum):\n",
    "                if i == (fileNum-1):\n",
    "                    fileNames[i] = baseFile + '_01mg_000rpm_10-00min_' + mat\n",
    "                else: \n",
    "                    fileNames[i] = baseFile + '_' + concentrations[i] + '_200rpm_10-00min_' + mat\n",
    "\n",
    "            if mat == 'PM':   \n",
    "                if prot == 'JJ1':\n",
    "                    plotTitle = 'JJmAb1 Concentrations, PMMA'\n",
    "                elif prot == 'JJ2': \n",
    "                    plotTitle = 'JJmAb2 Concentrations, PMMA'\n",
    "                elif prot == 'JJ3':\n",
    "                    plotTitle = 'JJmAb3 Concentrations, PMMA'\n",
    "                elif prot == 'JJ4':\n",
    "                    plotTitle = 'JJmAb4 Concentrations, PMMA'      \n",
    "            else:\n",
    "                if prot == 'JJ1':\n",
    "                    plotTitle = 'JJmAb1 Concentrations, Steel'\n",
    "                elif prot == 'JJ2': \n",
    "                    plotTitle = 'JJmAb2 Concentrations, Steel'\n",
    "                elif prot == 'JJ3':\n",
    "                    plotTitle = 'JJmAb3 Concentrations, Steel'\n",
    "                elif prot == 'JJ4':\n",
    "                    plotTitle = 'JJmAb4 Concentrations, Steel'\n",
    "\n",
    "            print(plotName)\n",
    "\n",
    "            # Set parameter lists containing plotting parameters\n",
    "            # param = [autoPlot, plotIntensity, plotAverage, plotNumberOfExp, plotFileName, \n",
    "            #          plotTitle, plotLegend, colors, cmap, font, showTitle]\n",
    "            param = [0, 0, 1, 0, plotName, plotTitle, plotLegend, [0], cmap, font, showTitle]\n",
    "\n",
    "            # Call plotting function\n",
    "            jp.plotDLS(corrData, intData, fileNames, param)"
   ]
  },
  {
   "cell_type": "markdown",
   "id": "41db75e2",
   "metadata": {},
   "source": [
    "#### MDI ↓ "
   ]
  },
  {
   "cell_type": "code",
   "execution_count": null,
   "id": "75463ea6",
   "metadata": {},
   "outputs": [],
   "source": [
    "if plotMDI:\n",
    "\n",
    "    concentrations = ['01mg', '10mg', '50mg']\n",
    "    proteins = ['JJ1']\n",
    "    materials = ['PM', 'ST']\n",
    "    \n",
    "    expNames = ['1 mg/mL, sheared', '10 mg/mL, sheared', '50 mg/mL, sheared', 'Unsheared']\n",
    "\n",
    "    fileNum = len(concentrations)+1\n",
    "    fileNames = [0] * fileNum\n",
    "\n",
    "    print('Plotting and saving plots (saved as .PDF and .PNG files): \\n')\n",
    "\n",
    "    for prot in proteins:\n",
    "        \n",
    "        baseName = prot + '_ProtConc'\n",
    "        baseFile = prot\n",
    "        \n",
    "        for mat in materials:\n",
    "\n",
    "            plotName = baseName + '_' + mat\n",
    "\n",
    "            for i in range(fileNum):\n",
    "                if i == (fileNum-1):\n",
    "                    fileNames[i] = baseFile + '_01mg_000rpm_10-00min_' + mat\n",
    "                else: \n",
    "                    fileNames[i] = baseFile + '_' + concentrations[i] + '_200rpm_10-00min_' + mat\n",
    "\n",
    "            if mat == 'PM':   \n",
    "                if prot == 'JJ1':\n",
    "                    plotTitle = 'JJmAb1 Concentrations, PMMA'\n",
    "                elif prot == 'JJ2': \n",
    "                    plotTitle = 'JJmAb2 Concentrations, PMMA'\n",
    "                elif prot == 'JJ3':\n",
    "                    plotTitle = 'JJmAb3 Concentrations, PMMA'\n",
    "                elif prot == 'JJ4':\n",
    "                    plotTitle = 'JJmAb4 Concentrations, PMMA'      \n",
    "            else:\n",
    "                if prot == 'JJ1':\n",
    "                    plotTitle = 'JJmAb1 Concentrations, Steel'\n",
    "                elif prot == 'JJ2': \n",
    "                    plotTitle = 'JJmAb2 Concentrations, Steel'\n",
    "                elif prot == 'JJ3':\n",
    "                    plotTitle = 'JJmAb3 Concentrations, Steel'\n",
    "                elif prot == 'JJ4':\n",
    "                    plotTitle = 'JJmAb4 Concentrations, Steel'\n",
    "\n",
    "            print(plotName)\n",
    "\n",
    "            # Set parameter lists containing plotting parameters\n",
    "            # param = [autoPlot, rmFirstBin, logPlot, plotAverage, plotLimits, expNames, plotFileName, \n",
    "            #          plotTitle, colors, cmap, font, showTitle]\n",
    "            param = [0, 0, 0, 1, 0, expNames, plotName, plotTitle, [0], cmap, font, showTitle]\n",
    "            param2 = [0, 1, 0, 1, 0, expNames, plotName, plotTitle, [0], cmap, font, showTitle]\n",
    "            paramLog = [0, 0, 1, 1, 0, expNames, plotName, plotTitle, [0], cmap, font, showTitle]\n",
    "\n",
    "            # Call plotting function\n",
    "            jp.plotMDI(countData, fileNames, param)\n",
    "            jp.plotMDI(countData, fileNames, param2)\n",
    "            jp.plotMDI(countData, fileNames, paramLog)"
   ]
  },
  {
   "cell_type": "markdown",
   "id": "6fbf9526",
   "metadata": {},
   "source": [
    "### High Protein Concentrations + Surfactants"
   ]
  },
  {
   "cell_type": "markdown",
   "id": "ba6016fe",
   "metadata": {},
   "source": [
    "#### DLS ↓"
   ]
  },
  {
   "cell_type": "code",
   "execution_count": null,
   "id": "8f9e3aba",
   "metadata": {},
   "outputs": [],
   "source": [
    "if plotDLS:\n",
    "\n",
    "    concentrations = ['10mg', '50mg']\n",
    "    proteins = ['JJ1']\n",
    "    materials = ['PM', 'ST']\n",
    "    surfactants = ['PS2']\n",
    "    \n",
    "    plotLegend = ['Sheared', 'PS20 Sheared', 'Unsheared']\n",
    "\n",
    "    fileNum = 3\n",
    "    fileNames = [0] * fileNum\n",
    "\n",
    "    print('Plotting and saving plots (saved as .PDF and .PNG files): \\n')\n",
    "\n",
    "    for conc in concentrations:\n",
    "        \n",
    "        baseName = 'JJ1_ProtConc_' + conc + '_Surf'\n",
    "        baseFile = 'JJ1_' + conc\n",
    "\n",
    "        for mat in materials:\n",
    "            \n",
    "            plotName = baseName + '_' + mat\n",
    "\n",
    "            for i in range(fileNum):\n",
    "                if i == (fileNum-1):\n",
    "                    fileNames[i] = baseFile +'_000rpm_00-00min_NA'\n",
    "                elif i == 0:\n",
    "                    fileNames[i] = baseFile + '_200rpm_10-00min_' + mat\n",
    "                else: \n",
    "                    if conc == '10mg':\n",
    "                        fileNames[i] = baseFile + '_' + surfactants[i-1] + '_250ug_200rpm_10-00min_' + mat\n",
    "                    else:\n",
    "                        fileNames[i] = baseFile + '_' + surfactants[i-1] + '_500ug_200rpm_10-00min_' + mat\n",
    "\n",
    "            if mat == 'PM':   \n",
    "                if conc == '10mg':\n",
    "                    plotTitle = 'JJmAb1 (10 mg/mL), PMMA'\n",
    "                elif conc == '50mg': \n",
    "                    plotTitle = 'JJmAb1 (50 mg/mL), PMMA'\n",
    "    \n",
    "            else:\n",
    "                if conc == '10mg':\n",
    "                    plotTitle = 'JJmAb1 (10 mg/mL), Steel'\n",
    "                elif conc == '50mg': \n",
    "                    plotTitle = 'JJmAb1 (50 mg/mL), Steel'\n",
    "\n",
    "            print(plotName)\n",
    "\n",
    "            # Set parameter lists containing plotting parameters\n",
    "            # param = [autoPlot, plotIntensity, plotAverage, plotNumberOfExp, plotFileName, \n",
    "            #          plotTitle, plotLegend, colors, cmap, font, showTitle]\n",
    "            param = [0, 0, 1, 0, plotName, plotTitle, plotLegend, [0], cmap, font, showTitle]\n",
    "\n",
    "            # Call plotting function\n",
    "            jp.plotDLS(corrData, intData, fileNames, param)"
   ]
  },
  {
   "cell_type": "markdown",
   "id": "bb70ba89",
   "metadata": {},
   "source": [
    "#### MDI ↓ "
   ]
  },
  {
   "cell_type": "code",
   "execution_count": null,
   "id": "6db45d93",
   "metadata": {},
   "outputs": [],
   "source": [
    "if plotMDI:\n",
    "\n",
    "    concentrations = ['10mg', '50mg']\n",
    "    proteins = ['JJ1']\n",
    "    materials = ['PM', 'ST']\n",
    "    surfactants = ['PS2']\n",
    "    \n",
    "    expNames = ['Sheared', 'PS20 Sheared', 'Unsheared']\n",
    "\n",
    "    fileNum = 3\n",
    "    fileNames = [0] * fileNum\n",
    "\n",
    "    print('Plotting and saving plots (saved as .PDF and .PNG files): \\n')\n",
    "\n",
    "    for conc in concentrations:\n",
    "        \n",
    "        baseName = 'JJ1_ProtConc_' + conc + '_Surf'\n",
    "        baseFile = 'JJ1_' + conc\n",
    "\n",
    "        for mat in materials:\n",
    "            \n",
    "            plotName = baseName + '_' + mat\n",
    "\n",
    "            for i in range(fileNum):\n",
    "                if i == (fileNum-1):\n",
    "                    fileNames[i] = 'JJ1_01mg_000rpm_10-00min_' + mat\n",
    "                elif i == 0:\n",
    "                    fileNames[i] = baseFile + '_200rpm_10-00min_' + mat\n",
    "                else: \n",
    "                    if conc == '10mg':\n",
    "                        fileNames[i] = baseFile + '_' + surfactants[i-1] + '_250ug_200rpm_10-00min_' + mat\n",
    "                    else:\n",
    "                        fileNames[i] = baseFile + '_' + surfactants[i-1] + '_500ug_200rpm_10-00min_' + mat\n",
    "\n",
    "            if mat == 'PM':   \n",
    "                if conc == '10mg':\n",
    "                    plotTitle = 'JJmAb1 (10 mg/mL), PMMA'\n",
    "                elif conc == '50mg': \n",
    "                    plotTitle = 'JJmAb1 (50 mg/mL), PMMA'\n",
    "    \n",
    "            else:\n",
    "                if conc == '10mg':\n",
    "                    plotTitle = 'JJmAb1 (10 mg/mL), Steel'\n",
    "                elif conc == '50mg': \n",
    "                    plotTitle = 'JJmAb1 (50 mg/mL), Steel'\n",
    "\n",
    "            print(plotName)\n",
    "\n",
    "            # Set parameter lists containing plotting parameters\n",
    "            # param = [autoPlot, rmFirstBin, logPlot, plotAverage, plotLimits, expNames, plotFileName, \n",
    "            #          plotTitle, colors, cmap, font, showTitle]\n",
    "            param = [0, 0, 0, 1, 0, expNames, plotName, plotTitle, [0], cmap, font, showTitle]\n",
    "            param2 = [0, 1, 0, 1, 0, expNames, plotName, plotTitle, [0], cmap, font, showTitle]\n",
    "            paramLog = [0, 0, 1, 1, 0, expNames, plotName, plotTitle, [0], cmap, font, showTitle]\n",
    "\n",
    "            # Call plotting function\n",
    "            jp.plotMDI(countData, fileNames, param)\n",
    "            jp.plotMDI(countData, fileNames, param2)\n",
    "            jp.plotMDI(countData, fileNames, paramLog)"
   ]
  },
  {
   "cell_type": "markdown",
   "id": "f1cf37c0",
   "metadata": {},
   "source": [
    "### Air Volume Fractions"
   ]
  },
  {
   "cell_type": "markdown",
   "id": "570a643a",
   "metadata": {},
   "source": [
    "#### DLS ↓ "
   ]
  },
  {
   "cell_type": "code",
   "execution_count": null,
   "id": "9c9d10ef",
   "metadata": {},
   "outputs": [],
   "source": [
    "if plotDLS:\n",
    "\n",
    "    concentrations = ['10mg', '50mg'] \n",
    "    volFracs = ['010%v']\n",
    "    proteins = ['JJ1']\n",
    "\n",
    "    plotLegend = ['$\\phi_{Air}$ = 0.1', '$\\phi_{Air}$ = 0', 'Unsheared']\n",
    "\n",
    "    fileNum = len(volFracs)+2\n",
    "    fileNames = [0] * fileNum\n",
    "\n",
    "    print('Plotting and saving plots (saved as .PDF and .PNG files): \\n')\n",
    "\n",
    "    for prot in proteins:       \n",
    "        \n",
    "        for conc in concentrations:\n",
    "            \n",
    "            baseName = prot + '_' + conc + '_AirAggr'\n",
    "            baseFile = prot \n",
    "\n",
    "            plotName = baseName + '_PM'\n",
    "\n",
    "            for i in range(fileNum):\n",
    "                if i == (fileNum-2):\n",
    "                    fileNames[i] = baseFile + '_' + conc + '_' + '200rpm_10-00min_' + 'PM'\n",
    "                elif i == (fileNum-1):\n",
    "                    fileNames[i] = baseFile  + '_' + conc + '_' + '000rpm_00-00min_NA'\n",
    "                else: \n",
    "                    fileNames[i] = baseFile + '_' + conc + '_' + 'AIR_' + volFracs[i] + '_200rpm_10-00min_' + 'PM'\n",
    "\n",
    "            if conc == '10mg':\n",
    "                if prot == 'JJ1':\n",
    "                    plotTitle = 'JJmAb1 (10 mg/mL) + Air, PMMA'\n",
    "                elif prot == 'JJ2':\n",
    "                    plotTitle = 'JJmAb2 (10 mg/mL) + Air, PMMA'\n",
    "                elif prot == 'JJ3':\n",
    "                    plotTitle = 'JJmAb3 (10 mg/mL) + Air, PMMA'\n",
    "                elif prot == 'JJ4':\n",
    "                    plotTitle = 'JJmAb4 (10 mg/mL) + Air, PMMA'\n",
    "            elif conc == '50mg':\n",
    "                if prot == 'JJ1':\n",
    "                    plotTitle = 'JJmAb1 (50 mg/mL) + Air, PMMA'\n",
    "                elif prot == 'JJ2':\n",
    "                    plotTitle = 'JJmAb2 (50 mg/mL) + Air, PMMA'\n",
    "                elif prot == 'JJ3':\n",
    "                    plotTitle = 'JJmAb3 (50 mg/mL) + Air, PMMA'\n",
    "                elif prot == 'JJ4':\n",
    "                    plotTitle = 'JJmAb4 (50 mg/mL) + Air, PMMA'\n",
    "\n",
    "            print(plotName)\n",
    "\n",
    "            # Set parameter lists containing plotting parameters\n",
    "            # param = [autoPlot, plotIntensity, plotAverage, plotNumberOfExp, plotFileName, \n",
    "            #          plotTitle, plotLegend, colors, cmap, font, showTitle]\n",
    "            param = [0, 0, 1, 0, plotName, plotTitle, plotLegend, [0], cmap, font, showTitle]\n",
    "\n",
    "            # Call plotting function\n",
    "            jp.plotDLS(corrData, intData, fileNames, param)"
   ]
  },
  {
   "cell_type": "code",
   "execution_count": null,
   "id": "0656aa8e",
   "metadata": {
    "scrolled": true
   },
   "outputs": [],
   "source": [
    "if plotDLS:\n",
    "\n",
    "    volFracs = ['010%v', '050%v']\n",
    "    materials = ['PM']\n",
    "    proteins = ['JJ1']\n",
    "\n",
    "    plotLegend = ['$\\phi_{Air}$ = 0', '$\\phi_{Air}$ = 0.1', '$\\phi_{Air}$ = 0.5', 'Unsheared']\n",
    "\n",
    "    fileNum = len(volFracs)+2\n",
    "    fileNames = [0] * fileNum\n",
    "\n",
    "    print('Plotting and saving plots (saved as .PDF and .PNG files): \\n')\n",
    "\n",
    "    for prot in proteins:\n",
    "        \n",
    "        baseName = prot + '_VolFrac'\n",
    "        baseFile = prot        \n",
    "        \n",
    "        for mat in materials:\n",
    "\n",
    "            plotName = baseName + '_' + mat\n",
    "\n",
    "            for i in range(fileNum):\n",
    "                if i == 0:\n",
    "                    fileNames[i] = baseFile + '_10mg_200rpm_10-00min_' + mat\n",
    "                elif i == (fileNum-1):\n",
    "                    fileNames[i] = baseFile + '_10mg_000rpm_00-00min_NA'\n",
    "                else: \n",
    "                    fileNames[i] = baseFile + '_10mg_AIR_' + volFracs[i-1] + '_200rpm_10-00min_' + mat\n",
    "\n",
    "            if mat == 'PM':   \n",
    "                if prot == 'JJ1':\n",
    "                    plotTitle = 'JJmAb1 (10 mg/mL) + Air Volume Fractions, PMMA'\n",
    "                elif prot == 'JJ2': \n",
    "                    plotTitle = 'JJmAb2 (10 mg/mL) + Air Volume Fractions, PMMA'\n",
    "                elif prot == 'JJ3':\n",
    "                    plotTitle = 'JJmAb3 (10 mg/mL) + Air Volume Fractions, PMMA'\n",
    "                elif prot == 'JJ4':\n",
    "                    plotTitle = 'JJmAb4 (10 mg/mL) + Air Volume Fractions, PMMA'      \n",
    "            else:\n",
    "                if prot == 'JJ1':\n",
    "                    plotTitle = 'JJmAb1 (10 mg/mL) + Air Volume Fractions, Steel'\n",
    "                elif prot == 'JJ2': \n",
    "                    plotTitle = 'JJmAb2 (10 mg/mL) + Air Volume Fractions, Steel'\n",
    "                elif prot == 'JJ3':\n",
    "                    plotTitle = 'JJmAb3 (10 mg/mL) + Air Volume Fractions, Steel'\n",
    "                elif prot == 'JJ4':\n",
    "                    plotTitle = 'JJmAb4 (10 mg/mL) + Air Volume Fractions, Steel'\n",
    "\n",
    "            print(plotName)\n",
    "\n",
    "            # Set parameter lists containing plotting parameters\n",
    "            # param = [autoPlot, plotIntensity, plotAverage, plotNumberOfExp, plotFileName, \n",
    "            #          plotTitle, plotLegend, colors, cmap, font, showTitle]\n",
    "            param = [0, 0, 1, 0, plotName, plotTitle, plotLegend, [0], cmap, font, showTitle]\n",
    "\n",
    "            # Call plotting function\n",
    "            jp.plotDLS(corrData, intData, fileNames, param)"
   ]
  },
  {
   "cell_type": "markdown",
   "id": "1474b272",
   "metadata": {},
   "source": [
    "#### MDI ↓ "
   ]
  },
  {
   "cell_type": "code",
   "execution_count": null,
   "id": "7378f271",
   "metadata": {},
   "outputs": [],
   "source": [
    "if plotMDI:\n",
    "\n",
    "    concentrations = ['10mg', '50mg'] \n",
    "    volFracs = ['010%v']\n",
    "    proteins = ['JJ1']\n",
    "\n",
    "    expNames = ['$\\phi_{Air}$ = 0', '$\\phi_{Air}$ = 0.1', 'Unsheared']\n",
    "\n",
    "    fileNum = len(volFracs)+2\n",
    "    fileNames = [0] * fileNum\n",
    "\n",
    "    print('Plotting and saving plots (saved as .PDF and .PNG files): \\n')\n",
    "\n",
    "    for prot in proteins:       \n",
    "        \n",
    "        for conc in concentrations:\n",
    "            \n",
    "            baseName = prot + '_' + conc + '_AirAggr'\n",
    "            baseFile = prot \n",
    "\n",
    "            plotName = baseName + '_PM'\n",
    "\n",
    "            for i in range(fileNum):\n",
    "                if i == 0:\n",
    "                    fileNames[i] = baseFile + '_' + conc + '_' + '200rpm_10-00min_' + 'PM'\n",
    "                elif i == (fileNum-1):\n",
    "                    fileNames[i] = 'JJ1_01mg_000rpm_10-00min_PM'\n",
    "                else:\n",
    "                    fileNames[i] = baseFile + '_' + conc + '_' + 'AIR_' + volFracs[i-1] + '_200rpm_10-00min_' + 'PM'\n",
    "\n",
    "            if conc == '10mg':\n",
    "                if prot == 'JJ1':\n",
    "                    plotTitle = 'JJmAb1 (10 mg/mL) + Air, PMMA'\n",
    "                elif prot == 'JJ2':\n",
    "                    plotTitle = 'JJmAb2 (10 mg/mL) + Air, PMMA'\n",
    "                elif prot == 'JJ3':\n",
    "                    plotTitle = 'JJmAb3 (10 mg/mL) + Air, PMMA'\n",
    "                elif prot == 'JJ4':\n",
    "                    plotTitle = 'JJmAb4 (10 mg/mL) + Air, PMMA'\n",
    "            elif conc == '50mg':\n",
    "                if prot == 'JJ1':\n",
    "                    plotTitle = 'JJmAb1 (50 mg/mL) + Air, PMMA'\n",
    "                elif prot == 'JJ2':\n",
    "                    plotTitle = 'JJmAb2 (50 mg/mL) + Air, PMMA'\n",
    "                elif prot == 'JJ3':\n",
    "                    plotTitle = 'JJmAb3 (50 mg/mL) + Air, PMMA'\n",
    "                elif prot == 'JJ4':\n",
    "                    plotTitle = 'JJmAb4 (50 mg/mL) + Air, PMMA'\n",
    "\n",
    "            print(plotName)\n",
    "\n",
    "            # Set parameter lists containing plotting parameters\n",
    "            # param = [autoPlot, rmFirstBin, logPlot, plotAverage, plotLimits, expNames, plotFileName, \n",
    "            #          plotTitle, colors, cmap, font, showTitle]\n",
    "            param = [0, 0, 0, 1, 0, expNames, plotName, plotTitle, [0], cmap, font, showTitle]\n",
    "            param2 = [0, 1, 0, 1, 0, expNames, plotName, plotTitle, [0], cmap, font, showTitle]\n",
    "            paramLog = [0, 0, 1, 1, 0, expNames, plotName, plotTitle, [0], cmap, font, showTitle]\n",
    "\n",
    "            # Call plotting function\n",
    "            jp.plotMDI(countData, fileNames, param)\n",
    "            jp.plotMDI(countData, fileNames, param2)\n",
    "            jp.plotMDI(countData, fileNames, paramLog)"
   ]
  },
  {
   "cell_type": "code",
   "execution_count": null,
   "id": "26cb460a",
   "metadata": {},
   "outputs": [],
   "source": [
    "if plotMDI:\n",
    "\n",
    "    volFracs = ['010%v', '050%v']\n",
    "    materials = ['PM']\n",
    "    proteins = ['JJ1']\n",
    "\n",
    "    expNames = ['$\\phi_{Air}$ = 0', '$\\phi_{Air}$ = 0.1', '$\\phi_{Air}$ = 0.5', 'Unsheared']\n",
    "\n",
    "    fileNum = len(volFracs)+2\n",
    "    fileNames = [0] * fileNum\n",
    "\n",
    "    print('Plotting and saving plots (saved as .PDF and .PNG files): \\n')\n",
    "\n",
    "    for prot in proteins:\n",
    "        \n",
    "        baseName = prot + '_VolFrac'\n",
    "        baseFile = prot        \n",
    "        \n",
    "        for mat in materials:\n",
    "\n",
    "            plotName = baseName + '_' + mat\n",
    "\n",
    "            for i in range(fileNum):\n",
    "                if i == 0:\n",
    "                    fileNames[i] = baseFile + '_10mg_200rpm_10-00min_' + mat\n",
    "                elif i == (fileNum-1):\n",
    "                    fileNames[i] = 'JJ1_10mg_000rpm_00-00min_NA'#baseFile + '_10mg_000rpm_00-00min_NA'\n",
    "                else: \n",
    "                    fileNames[i] = baseFile + '_10mg_AIR_' + volFracs[i-1] + '_200rpm_10-00min_' + mat\n",
    "\n",
    "            if mat == 'PM':   \n",
    "                if prot == 'JJ1':\n",
    "                    plotTitle = 'JJmAb1 (10 mg/mL) + Air Volume Fractions, PMMA'\n",
    "                elif prot == 'JJ2': \n",
    "                    plotTitle = 'JJmAb2 (10 mg/mL) + Air Volume Fractions, PMMA'\n",
    "                elif prot == 'JJ3':\n",
    "                    plotTitle = 'JJmAb3 (10 mg/mL) + Air Volume Fractions, PMMA'\n",
    "                elif prot == 'JJ4':\n",
    "                    plotTitle = 'JJmAb4 (10 mg/mL) + Air Volume Fractions, PMMA'      \n",
    "            else:\n",
    "                if prot == 'JJ1':\n",
    "                    plotTitle = 'JJmAb1 (10 mg/mL) + Air Volume Fractions, Steel'\n",
    "                elif prot == 'JJ2': \n",
    "                    plotTitle = 'JJmAb2 (10 mg/mL) + Air Volume Fractions, Steel'\n",
    "                elif prot == 'JJ3':\n",
    "                    plotTitle = 'JJmAb3 (10 mg/mL) + Air Volume Fractions, Steel'\n",
    "                elif prot == 'JJ4':\n",
    "                    plotTitle = 'JJmAb4 (10 mg/mL) + Air Volume Fractions, Steel'\n",
    "\n",
    "            print(plotName)\n",
    "\n",
    "            # Set parameter lists containing plotting parameters\n",
    "            # param = [autoPlot, rmFirstBin, logPlot, plotAverage, plotLimits, expNames, plotFileName, \n",
    "            #          plotTitle, colors, cmap, font, showTitle]\n",
    "            param = [0, 0, 0, 1, 0, expNames, plotName, plotTitle, [0], cmap, font, showTitle]\n",
    "            param2 = [0, 1, 0, 1, 0, expNames, plotName, plotTitle, [0], cmap, font, showTitle]\n",
    "            paramLog = [0, 0, 1, 1, 0, expNames, plotName, plotTitle, [0], cmap, font, showTitle]\n",
    "\n",
    "            # Call plotting function\n",
    "            jp.plotMDI(countData, fileNames, param)\n",
    "            jp.plotMDI(countData, fileNames, param2)\n",
    "            jp.plotMDI(countData, fileNames, paramLog)"
   ]
  },
  {
   "cell_type": "markdown",
   "id": "b07a2e4c",
   "metadata": {},
   "source": [
    "### Publication Overviews"
   ]
  },
  {
   "cell_type": "markdown",
   "id": "efbc349e",
   "metadata": {},
   "source": [
    "#### Surfactants, PMMA ↓ "
   ]
  },
  {
   "cell_type": "code",
   "execution_count": null,
   "id": "84cbe5b0",
   "metadata": {},
   "outputs": [],
   "source": [
    "jp.plotSurfPub(corrData, intData, countData, 'bla', cmap, font, 'PM')"
   ]
  },
  {
   "cell_type": "markdown",
   "id": "5defa956",
   "metadata": {},
   "source": [
    "#### Surfactants, Steel ↓ "
   ]
  },
  {
   "cell_type": "code",
   "execution_count": null,
   "id": "3acc1e1f",
   "metadata": {},
   "outputs": [],
   "source": [
    "jp.plotSurfPub(corrData, intData, countData, 'bla', cmap, font, 'ST')"
   ]
  },
  {
   "cell_type": "markdown",
   "id": "eb7831cc",
   "metadata": {},
   "source": [
    "#### Concentrations, PMMA ↓  "
   ]
  },
  {
   "cell_type": "code",
   "execution_count": null,
   "id": "8970bc9c",
   "metadata": {},
   "outputs": [],
   "source": [
    "jp.plotConcPub(corrData, intData, countData, 'bla', cmap, font, 'PM')"
   ]
  },
  {
   "cell_type": "markdown",
   "id": "10a6892b",
   "metadata": {},
   "source": [
    "#### Concentrations, Steel ↓ "
   ]
  },
  {
   "cell_type": "code",
   "execution_count": null,
   "id": "9e3f26cd",
   "metadata": {},
   "outputs": [],
   "source": [
    "jp.plotConcPub(corrData, intData, countData, 'bla', cmap, font, 'ST')"
   ]
  },
  {
   "cell_type": "markdown",
   "id": "6969f785",
   "metadata": {},
   "source": [
    "#### Influence of Air ↓ "
   ]
  },
  {
   "cell_type": "code",
   "execution_count": null,
   "id": "dc5e2444",
   "metadata": {},
   "outputs": [],
   "source": [
    "jp.plotAirPub(corrData, intData, countData, 'bla', cmap, font, 'PM')"
   ]
  },
  {
   "cell_type": "markdown",
   "id": "a02fb528",
   "metadata": {},
   "source": [
    "#### PS 20 + Concentrations, PMMA ↓ "
   ]
  },
  {
   "cell_type": "code",
   "execution_count": null,
   "id": "a22eba62",
   "metadata": {},
   "outputs": [],
   "source": [
    "jp.plotPS2ConcPub(corrData, intData, countData, 'bla', cmap, font, 'PM')"
   ]
  },
  {
   "cell_type": "markdown",
   "id": "3c87d7b5",
   "metadata": {},
   "source": [
    "#### PS 20 + Concentrations, Steel ↓ "
   ]
  },
  {
   "cell_type": "code",
   "execution_count": null,
   "id": "cd7127dc",
   "metadata": {},
   "outputs": [],
   "source": [
    "jp.plotPS2ConcPub(corrData, intData, countData, 'bla', cmap, font, 'ST')"
   ]
  },
  {
   "cell_type": "markdown",
   "id": "0ca77e08",
   "metadata": {},
   "source": [
    "## 3.3 Plot Placement"
   ]
  },
  {
   "cell_type": "markdown",
   "id": "7ace396d",
   "metadata": {},
   "source": [
    "### 3.3.1 Append Overview Plots to Powerpoint Presentation"
   ]
  },
  {
   "cell_type": "code",
   "execution_count": null,
   "id": "a258f5b9",
   "metadata": {
    "scrolled": false
   },
   "outputs": [],
   "source": [
    "# Load presentation template and set slide layout\n",
    "prs = Presentation(os.path.join('02_Plots', '00_Summary', 'Results.pptx'))\n",
    "layout = prs.slide_layouts[6] \n",
    "\n",
    "# Side margins on the PP slides\n",
    "leftMargin = Inches(3)\n",
    "topMargin = Inches(2)\n",
    "\n",
    "# Image size on the PP slides\n",
    "imWidth = Inches(6)\n",
    "imHeight = Inches(5)\n",
    "\n",
    "# Set title and subtitle\n",
    "title = \"All Plots\"\n",
    "subtitle = \"Overview Plots\"\n",
    "\n",
    "# Get sorted list of all plot paths\n",
    "plotListPub = sorted(glob.glob(os.path.join('.', '02_Plots', '00_Summary', '00_Edit', '02_PNG', '*.png')))\n",
    "plotListDLS = sorted(glob.glob(os.path.join('.', '02_Plots', '01_DLS', '01_Overview', '02_PNG', '*.png')))\n",
    "plotListLinMDI = sorted(glob.glob(os.path.join('.', '02_Plots', '02_MDI', '01_Overview', '01_Linear' , '02_PNG', '*.png')))\n",
    "plotListLogMDI = sorted(glob.glob(os.path.join('.', '02_Plots', '02_MDI', '01_Overview', '02_Log' , '02_PNG', '*.png')))\n",
    "\n",
    "# Initialize empty sets of basenames\n",
    "plotSetPub = set()\n",
    "plotSetDLS = set()\n",
    "plotSetLinMDI = set()\n",
    "plotSetLogMDI = set()\n",
    "\n",
    "# Convert lists to sets of basenames\n",
    "for plotPub, plotDLS, plotLinMDI, plotLogMDI in zip_longest(plotListPub, plotListDLS, plotListLinMDI, plotListLogMDI):\n",
    "    \n",
    "    if plotPub:\n",
    "        plotSetPub.add(os.path.basename(plotPub))\n",
    "    if plotDLS:\n",
    "        plotSetDLS.add(os.path.basename(plotDLS))\n",
    "    if plotLinMDI:\n",
    "        plotSetLinMDI.add(os.path.basename(plotLinMDI))\n",
    "    if plotLogMDI:\n",
    "        plotSetLogMDI.add(os.path.basename(plotLogMDI))\n",
    "        \n",
    "# Loop over all plots and insert them into PP presentation\n",
    "for plot in plotListPub:\n",
    "    slide = jp.addSlide(prs, plot, 0, layout, title, subtitle, leftMargin, topMargin, 1.5*imWidth, imHeight, 0)\n",
    "\n",
    "    txBox = slide.shapes.add_textbox(Inches(6), 0.6*Inches(2), width=Inches(5.5), height=Inches(5.5))\n",
    "    tf = txBox.text_frame\n",
    "    tf.text = plot[37:]\n",
    "    \n",
    "for plot in plotListDLS:\n",
    "\n",
    "    if plot[37:] == 'JJ1_01mg_Mat.png':\n",
    "        _ = jp.addSlide(prs, plot, 0, layout, title, subtitle, leftMargin, topMargin, 1.6*imWidth, imHeight, 0)\n",
    "    else:\n",
    "        _ = jp.addSlide(prs, plot, 0, layout, title, subtitle, leftMargin, topMargin, imWidth, imHeight, 0)\n",
    "    \n",
    "    baseName = os.path.basename(plot)\n",
    "    \n",
    "    if baseName in plotSetLinMDI:\n",
    "        \n",
    "        plot1 = os.path.join('.', '02_Plots', '02_MDI', '01_Overview', '01_Linear' , '02_PNG', baseName)\n",
    "        plot2 = os.path.join('.', '02_Plots', '02_MDI', '01_Overview', '01_Linear' , '02_PNG', baseName[:-4]+'_rmBin.png')\n",
    "        \n",
    "        _ = jp.addSlide(prs, plot1, plot2, layout, title, subtitle, leftMargin, topMargin, imWidth, imHeight, 0)\n",
    "\n",
    "    if baseName in plotSetLogMDI:\n",
    "        \n",
    "        plot3 = os.path.join('.', '02_Plots', '02_MDI', '01_Overview', '02_Log' , '02_PNG', baseName)\n",
    "        \n",
    "        _ = jp.addSlide(prs, plot3, 0, layout, title, subtitle, leftMargin, topMargin, imWidth, imHeight, 0)\n",
    "\n",
    "# Save presentation\n",
    "prs.save(os.path.join('02_Plots', '00_Summary', 'OverviewResults.pptx'))\n",
    "\n",
    "print('All overview plots have been inserted into a powerpoint presentation, which has been saved as OverviewResults.pptx')"
   ]
  },
  {
   "cell_type": "markdown",
   "id": "9c1a33ea",
   "metadata": {},
   "source": [
    "### 3.3.2 Append Individual Plots to Powerpoint Presentation"
   ]
  },
  {
   "cell_type": "code",
   "execution_count": null,
   "id": "8673852f",
   "metadata": {
    "scrolled": false
   },
   "outputs": [],
   "source": [
    "prs = Presentation(os.path.join('02_Plots', '00_Summary', 'Results.pptx'))\n",
    "layout = prs.slide_layouts[6] \n",
    "\n",
    "# Side margins on the PP slides\n",
    "leftMargin = Inches(2)\n",
    "topMargin = Inches(2)\n",
    "\n",
    "# Image size on the PP slides\n",
    "imWidth = Inches(6)\n",
    "imHeight = Inches(4.5)\n",
    "\n",
    "# Set title and subtitle\n",
    "title = \"All Plots\"\n",
    "subtitle = \"Individual Plots\"\n",
    "\n",
    "plotListColl = []\n",
    "plotListAvg = []\n",
    "\n",
    "# Get sorted list of all plot paths\n",
    "plotListDLS = sorted(glob.glob(os.path.join('.', '02_Plots', '01_DLS', '03_Collection', '02_PNG', '*.png')))\n",
    "plotListLinMDI = sorted(glob.glob(os.path.join('.', '02_Plots', '02_MDI', '03_Collection', '01_Linear' , '02_PNG', '*.png')))\n",
    "plotListLogMDI = sorted(glob.glob(os.path.join('.', '02_Plots', '02_MDI', '03_Collection', '02_Log' , '02_PNG', '*.png')))\n",
    "\n",
    "# Initialize empty sets of basenames\n",
    "plotSetDLS = set()\n",
    "plotSetLinMDI = set()\n",
    "plotSetLogMDI = set()\n",
    "\n",
    "# Convert lists to sets of basenames\n",
    "for plotDLS, plotLinMDI, plotLogMDI in zip_longest(plotListDLS, plotListLinMDI, plotListLogMDI):\n",
    "    \n",
    "    if plotDLS:\n",
    "        plotSetDLS.add(os.path.basename(plotDLS))\n",
    "    if plotLinMDI:\n",
    "        plotSetLinMDI.add(os.path.basename(plotLinMDI))\n",
    "    if plotLogMDI:\n",
    "        plotSetLogMDI.add(os.path.basename(plotLogMDI))\n",
    "\n",
    "# Loop over all plots and insert them into PP presentation\n",
    "for plot in plotListDLS:\n",
    "\n",
    "    _ = jp.addSlide(prs, plot, 0, layout, title, subtitle, leftMargin, topMargin, imWidth, imHeight, 1)\n",
    "    \n",
    "    baseName = os.path.basename(plot)\n",
    "    \n",
    "    if baseName in plotSetLinMDI:\n",
    "        \n",
    "        plot1 = os.path.join('.', '02_Plots', '02_MDI', '03_Collection', '01_Linear' , '02_PNG', baseName)\n",
    "        plot2 = os.path.join('.', '02_Plots', '02_MDI', '03_Collection', '01_Linear' , '02_PNG', baseName[:-9]+'_rmBin_Coll.png')\n",
    "        \n",
    "        _ = jp.addSlide(prs, plot1, plot2, layout, title, subtitle, leftMargin, topMargin, imWidth, 0.75*imHeight, 1)\n",
    "\n",
    "    if baseName in plotSetLogMDI:\n",
    "        \n",
    "        plot3 = os.path.join('.', '02_Plots', '02_MDI', '03_Collection', '02_Log' , '02_PNG', baseName)\n",
    "        \n",
    "        _ = jp.addSlide(prs, plot3, 0, layout, title, subtitle, 2*leftMargin, topMargin, imWidth, 0.9*imHeight, 1)\n",
    "\n",
    "# Save presentation\n",
    "prs.save(os.path.join('02_Plots', '00_Summary', 'IndividualResults.pptx'))\n",
    "\n",
    "print('All individual plots have been inserted into a powerpoint presentation, which has been saved as IndividualResults.pptx')"
   ]
  },
  {
   "cell_type": "code",
   "execution_count": null,
   "id": "bf0f4a2d",
   "metadata": {},
   "outputs": [],
   "source": [
    "input('Everything is done! Now go and take a break :-)  ')"
   ]
  }
 ],
 "metadata": {
  "kernelspec": {
   "display_name": "Python 3 (ipykernel)",
   "language": "python",
   "name": "python3"
  },
  "language_info": {
   "codemirror_mode": {
    "name": "ipython",
    "version": 3
   },
   "file_extension": ".py",
   "mimetype": "text/x-python",
   "name": "python",
   "nbconvert_exporter": "python",
   "pygments_lexer": "ipython3",
   "version": "3.9.7"
  }
 },
 "nbformat": 4,
 "nbformat_minor": 5
}
